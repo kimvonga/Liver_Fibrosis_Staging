{
 "cells": [
  {
   "cell_type": "markdown",
   "id": "add4ae4a-d40e-489d-b9b0-400d110198cd",
   "metadata": {},
   "source": [
    "## Introduction<a id='introduction'></a>\n",
    "**Purpose:** \\\n",
    "To develop a pre-screening model that predicts the probability with over 90% of a patient having late stage NASH using only readily avilable patient data\n",
    "\n",
    "**Context:** \\\n",
    "Nonalcoholic steatohepatitis (NASH) affects approximately 5% of US adults and 8% of the global population. Late stages of NASH include cirrhosis of the liver, which is a major risk factor in developing cancer. Biotech companies, including Akero Therapeutics, Viking Therapeutics, Pfizer, and Novo Nordisk, have begun developing theapies for treating late stages of NASH. To be elligible for such therapies, patients must receive an MRI, which can take 2 hours per patient. With such a large patient population, pre-screening for eligiblity can expand access and can help patients in need gain access more quickly. \n",
    "\n",
    "**Data:** \\\n",
    "The data used to train this model comes from [Kaggle](https://www.kaggle.com/datasets/fedesoriano/cirrhosis-prediction-dataset), which originates from the Mayo Clinic. Additional data from [Synthea](https://console.cloud.google.com/) could also be of interest.\n",
    "\n",
    "**Summary of data wrangling and eda:** \\\n",
    "Some significant changes were made to the raw data and are listed below:\n",
    "* Removed NaN stages\n",
    "* Removed either non-informative or difficult-to-obtain columns\n",
    "* Removed outliers\n",
    "* Split according to frequency of NaNs\n",
    "\n",
    "Plan to train using both male and female patients, although there are few enough male patients (25 male vs 270 female) that could also remove.\n",
    "\n",
    "```ALBI, APRI, FIB-4``` are the most promising variables for predicting staging, although none, individually, clearly separate staging. \n",
    "\n",
    "**Outcomes of this notebook:** \\\n",
    "Many classification algorithms were trained and evaluated with a logistic regression classifier striking the best balance of simplicity and ease of use. Compared to pre-existing screening tests for liver disease, the ALBI, APRI, and FIB-4 scores, a logistic regression classifier had a 15% relative increase in accuracy for detecting advance fibrosis and a 16% relative increase in accuracy for detecting cirrhosis. "
   ]
  },
  {
   "cell_type": "markdown",
   "id": "52d9de83-c29e-4629-94dd-48dc7911d20d",
   "metadata": {},
   "source": [
    "## Contents<a id='contents'></a>\n",
    "* [Introduction](#introduction)\n",
    "* [Contents](#contents)\n",
    "* [Objectives](#objectives)\n",
    "* [Summary](#summary)\n",
    "* [Preprocessing and Setup](#preprocessing_and_setup)\n",
    "* [Benchmarks](#benchmarks)\n",
    "    * [Random Model](#random_model)\n",
    "    * [Mean Model](#mean_model)\n",
    "    * [ALBI Model](#albi_model)\n",
    "        * [Predicting Advanced Fibrosis](#predicting_advanced_fibrosis_albi)\n",
    "        * [Predicted Cirrhosis](#predicting_cirrhosis_albi)\n",
    "    * [APRI Model](#apri_model)\n",
    "        * [Predicting Advanced Fibrosis](#predicting_advanced_fibrosis_apri)\n",
    "        * [Predicting Cirrhosis](#predicint_cirrhosis_apri)\n",
    "    * [FIB-4 Model](#fib-4_model)\n",
    "        * [Predicting Advanced Fibrosis](#predicting_advanced_fibrosis_fib-4)\n",
    "        * [Predicting Cirrhosis](#predicting_cirrhosis_fib-4)\n",
    "* [K-Nearest Neighbors](#k-nearest_neighbors)\n",
    "* [Random Forest](#random_forest)\n",
    "* [Logistic Regression](#logistic_regression)\n",
    "* [Naive Bayes](#naive_bayes)\n",
    "* [Support Vector Machine](#support_vector_machine)\n",
    "* [Gradient Boosting](#gradient_boosting)\n",
    "* [Feedforward NN](#feedforward_nn)\n",
    "    * [Predicting Advanced Fibrosis](#predicting_advanced_fibrosis_fnn)\n",
    "    * [Predicting Cirrhosis](#predicing_cirrhosis_fnn)"
   ]
  },
  {
   "cell_type": "markdown",
   "id": "99aa40a2-a33f-423e-8284-c143a0ec9d66",
   "metadata": {},
   "source": [
    "## Objectives<a id='objectives'></a>\n",
    "1. Identify goals for success\n",
    "2. Identify classification algorithm that performs best and meets real-world constraints"
   ]
  },
  {
   "cell_type": "markdown",
   "id": "22314b98-924a-4c45-b0d7-38b08154d443",
   "metadata": {},
   "source": [
    "## Summary<a id='summary'></a>\n",
    "The objectives of this notebook are\n",
    "1. Identify goals for success\n",
    "2. Identify classification algorithm that performs best and meets real-world constraints\n",
    "\n",
    "The metric for success is to predict advanced fibrosis or cirrhosis with greater accuracy than pre-existing serum tests, which are the APRI, ALBI, and FIB-4 scores. As a base case, a random model, one which randomly guesses a patient's condition based on population statistics, was also evaluated. Sensitivity, specificity, accuracy, and F1-score are shown below for each model.\n",
    "\n",
    "|                     |            | **Sensitivity** | **Specificity** | **Precision** | **F1-Score** | **Accuracy** |\n",
    "|---------------------|------------|-----------------|-----------------|---------------|--------------|--------------|\n",
    "|**Advanced Fibrosis**| **Random** | 0.265 | 0.735 | 0.265 | 0.265 | 0.704 |\n",
    "|                     | **ALBI**   | 0.653 | 0.704 | 0.860 | 0.742 | 0.667 |\n",
    "|                     | **APRI**   | 0.649 | 0.654 | 0.849 | 0.732 | 0.65  |\n",
    "|                     | **FIB-4**  | 0.556 | 0.642 | 0.812 | 0.660 | 0.578 |\n",
    "|                     | **Log Regression** | 0.430 | 0.787 | 0.499 | 0.447 | **0.728** |\n",
    "|                     | **FNN**    | 0.357 | 0.938 | 0.802 | 0.863 | 0.784 |\n",
    "|**Cirrhosis**        | **Random** | 0.343 | 0.657 | 0.343 | 0.343 | 0.75  |\n",
    "|                     | **ALBI**   | 0.810 | 0.592 | 0.509 | 0.625 | 0.667 |\n",
    "|                     | **APRI**   | 0.638 | 0.657 | 0.493 | 0.556 | 0.65  |\n",
    "|                     | **FIB-4**  | 0.59  | 0.687 | 0.496 | 0.539 | 0.654 |\n",
    "|                     | **Log Regression** | 0.683 | 0.710 | 0.649 | 0.659 | **0.762** |\n",
    "|                     | **FNN**    | 0.510 | 0.909 | 0.694 | 0.837 | 0.771 |\n",
    "\n",
    "Many models, including K-Nearest Neighbors, Random Forest, Logistic Regression, Naive Bayes, Support Vector Machines, Gradient Boosting, and Feedforward Neural Networks, were trained and evaluated. Ultimately, a simple **logistic regression classifier stuck the best balance of performance, with a 15% relative increase in accuracy for detecting advance fibrosis and a 16% relative increase in accuracy for detecting cirrhosis compared to ALBI, APRI, FIB-4 scoring, and ease of use.** Compared to the best performing model, a feedforward neural network, the logistic regression classifier was only 4.6% behind in detecting advanced fibrosis and only 0.9% behind detecting cirrhosis. With neural networks being difficult to share and update, it is not recommended that neural networks be used to prescreen for liver disease. \n",
    "\n",
    "It is worth noting that disease staging was not easily separable which led to relatively poor performance. The best accuracy, which came from a feedforward neural network, was only 78.4% and 77.1% for detecting advanced fibrosis and cirrhosis, respectively. I also tried training using less features to reduce noise, but doing so did not significantly improve performance."
   ]
  },
  {
   "cell_type": "markdown",
   "id": "1b9d67d0-1305-4a4c-8a84-2edc6e644835",
   "metadata": {
    "jp-MarkdownHeadingCollapsed": true,
    "tags": []
   },
   "source": [
    "## Preprocessing and Setup<a id='preprocessing_and_setup'></a>"
   ]
  },
  {
   "cell_type": "code",
   "execution_count": 1,
   "id": "973f4ab7-393d-40d4-9190-1acac496b962",
   "metadata": {
    "tags": []
   },
   "outputs": [],
   "source": [
    "import numpy as np\n",
    "import pandas as pd\n",
    "import matplotlib.pyplot as plt\n",
    "import seaborn as sns\n",
    "import itertools\n",
    "import eda_functions as eda_f\n",
    "import warnings\n",
    "np.random.seed(42)"
   ]
  },
  {
   "cell_type": "code",
   "execution_count": 2,
   "id": "3004648f-ac50-4b09-8254-d85ee567440c",
   "metadata": {
    "tags": []
   },
   "outputs": [],
   "source": [
    "from sklearn.preprocessing import OneHotEncoder, StandardScaler\n",
    "from sklearn.pipeline import Pipeline, FeatureUnion\n",
    "from sklearn.impute import KNNImputer\n",
    "from sklearn.base import BaseEstimator, TransformerMixin\n",
    "from sklearn.model_selection import train_test_split, GridSearchCV\n",
    "from sklearn.metrics import classification_report, confusion_matrix\n",
    "from sklearn.decomposition import PCA"
   ]
  },
  {
   "cell_type": "code",
   "execution_count": 3,
   "id": "343c2a39-3755-4abe-98ad-18055fdbbd3a",
   "metadata": {
    "tags": []
   },
   "outputs": [],
   "source": [
    "class OneHotNan(BaseEstimator, TransformerMixin):\n",
    "    def fit(self, X, y=None):\n",
    "        return self\n",
    "    def transform(self, X):\n",
    "        ohe = OneHotEncoder(sparse_output=False)\n",
    "        X_oh = ohe.fit_transform(X)\n",
    "        \n",
    "        if True not in pd.isnull(ohe.categories_):\n",
    "            X_oh = pd.DataFrame(X_oh, columns=ohe.categories_[0])\n",
    "        if True in pd.isnull(ohe.categories_):\n",
    "            for ind, val in enumerate(ohe.categories_[0]):\n",
    "                if pd.isnull(val):\n",
    "                    nan_col = ind\n",
    "            nan_rows = [ind for ind, val in enumerate(X_oh[:, nan_col]) if val > 0]\n",
    "\n",
    "            X_oh = pd.DataFrame(X_oh, columns=ohe.categories_[0])\n",
    "            X_oh.loc[nan_rows,:] = pd.NA\n",
    "            X_oh = X_oh.drop(columns=ohe.categories_[0][nan_col])\n",
    "        return X_oh\n",
    "\n",
    "class CategoricalTransformer(BaseEstimator, TransformerMixin):\n",
    "    def __init__(self, columns=None):\n",
    "        self.columns = columns\n",
    "    def fit(self, X, y=None):\n",
    "        return self\n",
    "    def transform(self, X):\n",
    "        OH_NaN = OneHotNan()\n",
    "\n",
    "        X_cat = pd.DataFrame()\n",
    "        for cat_col in self.columns:\n",
    "            df = OH_NaN.fit_transform(X[[cat_col]])\n",
    "\n",
    "            new_cols = [cat_col+'_'+s for s in df.columns]\n",
    "            X_cat = pd.concat([X_cat, df.rename(columns=dict(zip(df.columns, new_cols)))], axis=1)\n",
    "        return X_cat\n",
    "\n",
    "class BinCategoricalTransformer(BaseEstimator, TransformerMixin):\n",
    "    def __init__(self, columns=None):\n",
    "        self.columns = columns\n",
    "    def fit(self, X, Y=None):\n",
    "        return self\n",
    "    def transform(self, X):\n",
    "        X_bin = pd.DataFrame()\n",
    "        for col in self.columns:\n",
    "            X_bin = pd.concat([X_bin, X[[col]].replace(('Y','N'), (1,0))], axis=1)\n",
    "        return X_bin\n",
    "\n",
    "class NumericalTransformer(BaseEstimator, TransformerMixin):\n",
    "    def __init__(self, columns=None):\n",
    "        self.columns = columns\n",
    "    def fit(self, X, y=None):\n",
    "        return self\n",
    "    def transform(self, X):\n",
    "        scaler = StandardScaler()\n",
    "        X_num = pd.DataFrame(scaler.fit_transform(X[self.columns]), columns=self.columns)\n",
    "        return X_num"
   ]
  },
  {
   "cell_type": "code",
   "execution_count": 4,
   "id": "080f77d1-1481-4549-abbb-aee19ea0e09d",
   "metadata": {
    "tags": []
   },
   "outputs": [],
   "source": [
    "def preprocess(df):\n",
    "    feature_union = FeatureUnion([\n",
    "        ('bin_trans', BinCategoricalTransformer(columns=['Hepatomegaly', 'Spiders'])),\n",
    "        ('cat_trans', CategoricalTransformer(columns=['Drug', 'Edema', 'Sex'])),\n",
    "        ('num_trans', NumericalTransformer(columns=['Age', 'Bilirubin', 'Cholesterol', 'Albumin', 'Copper', \n",
    "                                                    'Alk_Phos', 'SGOT', 'Triglycerides', 'Platelets',\n",
    "                                                    'Prothrombin', 'ALBI', 'APRI', 'FIB-4']))\n",
    "    ])\n",
    "    knn_impute_pipe = Pipeline([\n",
    "        ('features', feature_union),\n",
    "        ('scaler', StandardScaler()),\n",
    "        ('knn_impute', KNNImputer())\n",
    "    ])\n",
    "\n",
    "    df_imputed = knn_impute_pipe.fit_transform(df)\n",
    "\n",
    "    transformers = ['bin_trans', 'cat_trans', 'num_trans']\n",
    "    cols = []\n",
    "    for trans in transformers:\n",
    "        trans_cols = knn_impute_pipe['features'][trans].transform(df).columns.values\n",
    "        cols.extend(trans_cols)\n",
    "\n",
    "    df_imputed = pd.DataFrame(df_imputed, columns=cols)\n",
    "    df_imputed['Stage'] = df['Stage']\n",
    "    \n",
    "    return df_imputed"
   ]
  },
  {
   "cell_type": "code",
   "execution_count": 5,
   "id": "bdc23331-86e4-4e26-95a0-1532b535d82f",
   "metadata": {
    "tags": []
   },
   "outputs": [],
   "source": [
    "def preprocess_pca(df):\n",
    "    '''\n",
    "    Preprocesses feature space using PCA to remove noise, knn_impute to remove nans, and standardscaler\n",
    "    Do not feed in target space\n",
    "    '''\n",
    "    feature_union = FeatureUnion([\n",
    "        ('bin_trans', BinCategoricalTransformer(columns=['Hepatomegaly', 'Spiders'])),\n",
    "        ('cat_trans', CategoricalTransformer(columns=['Drug', 'Edema', 'Sex'])),\n",
    "        ('num_trans', NumericalTransformer(columns=['Age', 'Bilirubin', 'Cholesterol', 'Albumin', 'Copper', \n",
    "                                                    'Alk_Phos', 'SGOT', 'Triglycerides', 'Platelets',\n",
    "                                                    'Prothrombin', 'ALBI', 'APRI', 'FIB-4']))\n",
    "    ])\n",
    "    knn_impute_pipe = Pipeline([\n",
    "        ('features', feature_union),\n",
    "        ('scaler', StandardScaler()),\n",
    "        ('knn_impute', KNNImputer()),\n",
    "        ('pca', PCA(n_components=0.95, svd_solver='full'))\n",
    "    ])\n",
    "\n",
    "    df_imputed = knn_impute_pipe.fit_transform(df)\n",
    "    \n",
    "    return df_imputed"
   ]
  },
  {
   "cell_type": "code",
   "execution_count": 6,
   "id": "8934f7c7-cd62-4f24-8716-0af9c66e5398",
   "metadata": {
    "tags": []
   },
   "outputs": [],
   "source": [
    "def calc_2class_scores(true, pred):\n",
    "    c_matrix = confusion_matrix(true, pred)\n",
    "    my_score = {}\n",
    "    my_score['recall'] = round(c_matrix[0,0]/(c_matrix[0,0] + c_matrix[0,1] + 1e-9), 3)\n",
    "    my_score['specificity'] = round(c_matrix[1,1]/(c_matrix[1,1] + c_matrix[1,0] + 1e-9), 3)\n",
    "    my_score['precision'] = round(c_matrix[0,0]/(c_matrix[0,0] + c_matrix[1,0] + 1e-9), 3)\n",
    "    my_score['f1-score'] = round(2*my_score['precision']*my_score['recall']/(my_score['precision']+my_score['recall']), 3)\n",
    "    my_score['accuracy'] = round((c_matrix[0,0]+c_matrix[1,1])/sum(sum(c_matrix)), 3)\n",
    "    my_score['support_pos'] = sum(c_matrix[0,:])\n",
    "    my_score['support_neg'] = sum(c_matrix[1,:])\n",
    "    return my_score"
   ]
  },
  {
   "cell_type": "code",
   "execution_count": 7,
   "id": "5c595700-b8fe-48bf-83d9-e37acc1e7238",
   "metadata": {
    "tags": []
   },
   "outputs": [],
   "source": [
    "def calc_3class_scores(true, pred):\n",
    "    '''\n",
    "    Calculates precision, recall, f1-score, specificity, accuracy, and support\n",
    "    for classification of 3 classes given the predicted classes and the true classes\n",
    "    Returns as dictionary of dictionaries\n",
    "    '''\n",
    "    classifications = sorted(list(set(np.array(true).flatten()).union(set(np.array(pred).flatten()))))\n",
    "\n",
    "    c_matrix = confusion_matrix(true, pred, labels=classifications)\n",
    "    my_score = {}\n",
    "    for ind, my_class in enumerate(classifications):\n",
    "        tn = sum(c_matrix.diagonal()) - c_matrix[ind,ind]\n",
    "\n",
    "        precision = c_matrix[ind, ind]/sum(c_matrix[:,ind], 1e-9)\n",
    "        recall = c_matrix[ind, ind]/sum(c_matrix[ind,:], 1e-9)\n",
    "        f1 = 2*precision*recall/(precision+recall+1e-9)\n",
    "        specificity = tn/(tn+sum(c_matrix[:,ind])-c_matrix[ind,ind]+1e-9)\n",
    "        accuracy = (sum(sum(c_matrix)) - sum(c_matrix[ind,:]) - sum(c_matrix[:,ind]) + 2*c_matrix[ind,ind])/sum(sum(c_matrix), 1e-9)\n",
    "        support = sum(c_matrix[ind,:])\n",
    "\n",
    "        my_score[my_class] = {'recall':recall, 'specificity':specificity, 'precision':precision,\n",
    "                               'f1-score':f1, 'accuracy':accuracy, 'support':support}\n",
    "\n",
    "    return my_score"
   ]
  },
  {
   "cell_type": "code",
   "execution_count": 8,
   "id": "9f69c3c4-80f4-4159-9c9c-e9d4c7553ae1",
   "metadata": {
    "tags": []
   },
   "outputs": [],
   "source": [
    "def bs_model(X, Y, model, m=10000, p1=2.5, p2=97.5):\n",
    "    '''\n",
    "    X, Y should be preprocessed and directly ready for splitting and training\n",
    "    Uses calc_class_scores() function\n",
    "    '''\n",
    "    # grabbing shape, index, and columns of score\n",
    "    my_df = pd.DataFrame(calc_3class_scores(Y, Y)).T\n",
    "    a,b = my_df.shape\n",
    "    cols = my_df.columns\n",
    "    index = pd.MultiIndex.from_tuples(list(itertools.product(my_df.index, ['mean', str(p2-p1)+'% CI'])))\n",
    "    \n",
    "    # resampling data m times\n",
    "    bs_scores = np.empty([m, a, b])\n",
    "    for i in range(m):\n",
    "        x_train, x_test, y_train, y_test = train_test_split(X, Y, test_size=0.2)\n",
    "        model.fit(x_train, y_train)\n",
    "        y_pred = model.predict(x_test)\n",
    "        bs_scores[i] = np.array([list(val.values()) for val in calc_3class_scores(y_test, y_pred).values()])\n",
    "    \n",
    "    # calculating statistics from bs data\n",
    "    means = np.mean(bs_scores, axis=0).round(3)\n",
    "    percentiles = np.percentile(bs_scores, [p1, p2], axis=0).round(3)\n",
    "\n",
    "    # reshaping percentiles so that last index holds the confidence interval\n",
    "    a, b = my_df.shape\n",
    "    ci = np.empty([a,b,2])\n",
    "    for i in range(a):\n",
    "        for j in range(b):\n",
    "            ci[i,j] = [percentiles[0,i,j], percentiles[1,i,j]]\n",
    "\n",
    "    # reshaping means and percentiles\n",
    "    data = []\n",
    "    for i in range(a):\n",
    "        data.append(means[i])\n",
    "        data.append(ci[i])\n",
    "\n",
    "    return pd.DataFrame(data, index=index, columns=cols)"
   ]
  },
  {
   "cell_type": "code",
   "execution_count": 9,
   "id": "c03fe7c9-6c46-4706-8fb0-7ecc0058ca16",
   "metadata": {
    "tags": []
   },
   "outputs": [],
   "source": [
    "def plot_train_test(cv_results):\n",
    "    plt.figure(figsize=(8,3))\n",
    "    plt.plot(cv_results['mean_test_score'], '.-', color='C0', label='test score')\n",
    "    # plt.twinx()\n",
    "    plt.plot(cv_results['mean_train_score'], '.-', color='C1', label='train score')\n",
    "    plt.twinx()\n",
    "    plt.plot(cv_results['mean_train_score']-cv_results['mean_test_score'], '.--', color='C2', label='difference')\n",
    "    plt.ylabel('train - test', color='C2')"
   ]
  },
  {
   "cell_type": "code",
   "execution_count": 10,
   "id": "60c50d19-558e-4df4-b53f-968fd09fb351",
   "metadata": {
    "tags": []
   },
   "outputs": [],
   "source": [
    "# Loading data\n",
    "female_lownan = eda_f.add_apri_fib4_albi(pd.read_csv('../data/interim/female_low_nans.csv', index_col=0))\n",
    "male_lownan = eda_f.add_apri_fib4_albi(pd.read_csv('../data/interim/male_low_nans.csv', index_col=0))"
   ]
  },
  {
   "cell_type": "code",
   "execution_count": 11,
   "id": "dce0e83e-7c4f-4dea-85ee-01b4ab7d79a0",
   "metadata": {
    "tags": []
   },
   "outputs": [],
   "source": [
    "df = pd.concat([female_lownan, male_lownan], ignore_index=True)\n",
    "preprocess_df = preprocess(df)\n",
    "X, Y = (preprocess_df.drop(columns='Stage'), preprocess_df[['Stage']])"
   ]
  },
  {
   "cell_type": "code",
   "execution_count": 12,
   "id": "af6bddc0-e2e0-4d5f-b5f1-9b9d68bfac86",
   "metadata": {
    "tags": []
   },
   "outputs": [
    {
     "data": {
      "text/html": [
       "<div>\n",
       "<style scoped>\n",
       "    .dataframe tbody tr th:only-of-type {\n",
       "        vertical-align: middle;\n",
       "    }\n",
       "\n",
       "    .dataframe tbody tr th {\n",
       "        vertical-align: top;\n",
       "    }\n",
       "\n",
       "    .dataframe thead th {\n",
       "        text-align: right;\n",
       "    }\n",
       "</style>\n",
       "<table border=\"1\" class=\"dataframe\">\n",
       "  <thead>\n",
       "    <tr style=\"text-align: right;\">\n",
       "      <th></th>\n",
       "      <th>Hepatomegaly</th>\n",
       "      <th>Spiders</th>\n",
       "      <th>Drug_D-penicillamine</th>\n",
       "      <th>Drug_Placebo</th>\n",
       "      <th>Edema_N</th>\n",
       "      <th>Edema_S</th>\n",
       "      <th>Edema_Y</th>\n",
       "      <th>Sex_F</th>\n",
       "      <th>Sex_M</th>\n",
       "      <th>Age</th>\n",
       "      <th>...</th>\n",
       "      <th>Copper</th>\n",
       "      <th>Alk_Phos</th>\n",
       "      <th>SGOT</th>\n",
       "      <th>Triglycerides</th>\n",
       "      <th>Platelets</th>\n",
       "      <th>Prothrombin</th>\n",
       "      <th>ALBI</th>\n",
       "      <th>APRI</th>\n",
       "      <th>FIB-4</th>\n",
       "      <th>Stage</th>\n",
       "    </tr>\n",
       "  </thead>\n",
       "  <tbody>\n",
       "    <tr>\n",
       "      <th>0</th>\n",
       "      <td>0.987012</td>\n",
       "      <td>1.599418</td>\n",
       "      <td>0.980581</td>\n",
       "      <td>-0.980581</td>\n",
       "      <td>-2.377430</td>\n",
       "      <td>-0.317363</td>\n",
       "      <td>4.00</td>\n",
       "      <td>0.365148</td>\n",
       "      <td>-0.365148</td>\n",
       "      <td>0.826878</td>\n",
       "      <td>...</td>\n",
       "      <td>0.811787</td>\n",
       "      <td>-0.118208</td>\n",
       "      <td>0.332424</td>\n",
       "      <td>0.903557</td>\n",
       "      <td>-0.745655</td>\n",
       "      <td>1.689741</td>\n",
       "      <td>2.480920</td>\n",
       "      <td>0.329675</td>\n",
       "      <td>0.255957</td>\n",
       "      <td>4</td>\n",
       "    </tr>\n",
       "    <tr>\n",
       "      <th>1</th>\n",
       "      <td>0.987012</td>\n",
       "      <td>1.599418</td>\n",
       "      <td>0.980581</td>\n",
       "      <td>-0.980581</td>\n",
       "      <td>0.420622</td>\n",
       "      <td>-0.317363</td>\n",
       "      <td>-0.25</td>\n",
       "      <td>0.365148</td>\n",
       "      <td>-0.365148</td>\n",
       "      <td>0.608446</td>\n",
       "      <td>...</td>\n",
       "      <td>-0.524798</td>\n",
       "      <td>2.533758</td>\n",
       "      <td>-0.132820</td>\n",
       "      <td>-0.602198</td>\n",
       "      <td>-0.422514</td>\n",
       "      <td>-0.092459</td>\n",
       "      <td>-0.826428</td>\n",
       "      <td>-0.108790</td>\n",
       "      <td>-0.479904</td>\n",
       "      <td>3</td>\n",
       "    </tr>\n",
       "    <tr>\n",
       "      <th>2</th>\n",
       "      <td>0.987012</td>\n",
       "      <td>1.599418</td>\n",
       "      <td>0.980581</td>\n",
       "      <td>-0.980581</td>\n",
       "      <td>-2.377430</td>\n",
       "      <td>3.150964</td>\n",
       "      <td>-0.25</td>\n",
       "      <td>0.365148</td>\n",
       "      <td>-0.365148</td>\n",
       "      <td>0.447782</td>\n",
       "      <td>...</td>\n",
       "      <td>-0.393760</td>\n",
       "      <td>1.939065</td>\n",
       "      <td>-1.140056</td>\n",
       "      <td>-0.530495</td>\n",
       "      <td>-0.818622</td>\n",
       "      <td>-0.426621</td>\n",
       "      <td>0.749456</td>\n",
       "      <td>-0.485251</td>\n",
       "      <td>-0.591925</td>\n",
       "      <td>4</td>\n",
       "    </tr>\n",
       "  </tbody>\n",
       "</table>\n",
       "<p>3 rows × 23 columns</p>\n",
       "</div>"
      ],
      "text/plain": [
       "   Hepatomegaly   Spiders  Drug_D-penicillamine  Drug_Placebo   Edema_N  \\\n",
       "0      0.987012  1.599418              0.980581     -0.980581 -2.377430   \n",
       "1      0.987012  1.599418              0.980581     -0.980581  0.420622   \n",
       "2      0.987012  1.599418              0.980581     -0.980581 -2.377430   \n",
       "\n",
       "    Edema_S  Edema_Y     Sex_F     Sex_M       Age  ...    Copper  Alk_Phos  \\\n",
       "0 -0.317363     4.00  0.365148 -0.365148  0.826878  ...  0.811787 -0.118208   \n",
       "1 -0.317363    -0.25  0.365148 -0.365148  0.608446  ... -0.524798  2.533758   \n",
       "2  3.150964    -0.25  0.365148 -0.365148  0.447782  ... -0.393760  1.939065   \n",
       "\n",
       "       SGOT  Triglycerides  Platelets  Prothrombin      ALBI      APRI  \\\n",
       "0  0.332424       0.903557  -0.745655     1.689741  2.480920  0.329675   \n",
       "1 -0.132820      -0.602198  -0.422514    -0.092459 -0.826428 -0.108790   \n",
       "2 -1.140056      -0.530495  -0.818622    -0.426621  0.749456 -0.485251   \n",
       "\n",
       "      FIB-4  Stage  \n",
       "0  0.255957      4  \n",
       "1 -0.479904      3  \n",
       "2 -0.591925      4  \n",
       "\n",
       "[3 rows x 23 columns]"
      ]
     },
     "execution_count": 12,
     "metadata": {},
     "output_type": "execute_result"
    }
   ],
   "source": [
    "preprocess_df.head(3)"
   ]
  },
  {
   "cell_type": "markdown",
   "id": "47ad5ae9-d9c3-45f1-a62c-810a35244ed7",
   "metadata": {
    "jp-MarkdownHeadingCollapsed": true,
    "tags": []
   },
   "source": [
    "## Benchmarks<a id='benchmarks'></a>"
   ]
  },
  {
   "cell_type": "markdown",
   "id": "f0cb5b71-0cc4-4ba0-8628-c00487cf0134",
   "metadata": {},
   "source": [
    "Will benchmark against 5 different models, with those being\n",
    "1. Random Model\n",
    "2. Mean Model\n",
    "3. ALBI model\n",
    "4. APRI model\n",
    "5. FIB-4 model\n",
    "\n",
    "Random Model randomly guesses stage knowing the distribution of stages from the dataset. (i.e. if 50% of patients are classified as stage F3, then it would guess F3 50% of the time)\n",
    "\n",
    "Mean model will compute the mean values for each column grouped by stage. Model will then predict staging based on cosine similarity.\n",
    "\n",
    "ALBI, APRI, and FIB-4 model will come from references."
   ]
  },
  {
   "cell_type": "markdown",
   "id": "fc18fc18-ffc2-420b-a7a9-86fe6c94a12d",
   "metadata": {
    "jp-MarkdownHeadingCollapsed": true,
    "tags": []
   },
   "source": [
    "### Random Model<a id='random_model'></a>\n",
    "**Result:**\n",
    "|                |         | **sensitivity** | **specificity** | **precision** | **f1-score** | **accuracy** | **support** |\n",
    "|----------------|---------|-----------------|-----------------|---------------|--------------|--------------|-------------|\n",
    "|**Random Model**| **1/2** | 0.265 | 0.735 | 0.265 | 0.265 | 0.704 | 81 |\n",
    "|                | **3**   | 0.392 | 0.608 | 0.392 | 0.392 | 0.601 | 120 |\n",
    "|                | **4**   | 0.343 | 0.657 | 0.343 | 0.343 | 0.75  | 105 |"
   ]
  },
  {
   "cell_type": "code",
   "execution_count": 8,
   "id": "416aad54-7470-45b0-827b-e7459703f04c",
   "metadata": {
    "tags": []
   },
   "outputs": [],
   "source": [
    "stage_counts = dict(df.Stage.value_counts())\n",
    "total = df.shape[0]\n",
    "rm_score = {}\n",
    "for key, val in stage_counts.items():\n",
    "    rm_score[key] = {'precision': round((val/total)**2/((val/total)**2 + (val/total)*((total-val)/total)), 3),\n",
    "                     'recall': round((val/total)**2/((val/total)**2 + (val/total)*((total-val)/total)), 3),\n",
    "                     'f1-score': round((val/total)**2/((val/total)**2 + (val/total)*((total-val)/total)), 3),\n",
    "                     'specificity': round(((total-val)/total)**2/(((total-val)/total)**2 + (val/total)*((total-val)/total)), 3),\n",
    "                     'accuracy':round((val/total)**2 + ((total-val)/total)**2, 3),\n",
    "                     'support': val}"
   ]
  },
  {
   "cell_type": "code",
   "execution_count": 9,
   "id": "be938e66-bbd6-4c50-aa0f-518422e8a683",
   "metadata": {
    "tags": []
   },
   "outputs": [
    {
     "data": {
      "text/html": [
       "<div>\n",
       "<style scoped>\n",
       "    .dataframe tbody tr th:only-of-type {\n",
       "        vertical-align: middle;\n",
       "    }\n",
       "\n",
       "    .dataframe tbody tr th {\n",
       "        vertical-align: top;\n",
       "    }\n",
       "\n",
       "    .dataframe thead th {\n",
       "        text-align: right;\n",
       "    }\n",
       "</style>\n",
       "<table border=\"1\" class=\"dataframe\">\n",
       "  <thead>\n",
       "    <tr style=\"text-align: right;\">\n",
       "      <th></th>\n",
       "      <th>precision</th>\n",
       "      <th>recall</th>\n",
       "      <th>f1-score</th>\n",
       "      <th>specificity</th>\n",
       "      <th>accuracy</th>\n",
       "      <th>support</th>\n",
       "    </tr>\n",
       "  </thead>\n",
       "  <tbody>\n",
       "    <tr>\n",
       "      <th>1/2</th>\n",
       "      <td>0.265</td>\n",
       "      <td>0.265</td>\n",
       "      <td>0.265</td>\n",
       "      <td>0.735</td>\n",
       "      <td>0.611</td>\n",
       "      <td>81.0</td>\n",
       "    </tr>\n",
       "    <tr>\n",
       "      <th>3</th>\n",
       "      <td>0.392</td>\n",
       "      <td>0.392</td>\n",
       "      <td>0.392</td>\n",
       "      <td>0.608</td>\n",
       "      <td>0.523</td>\n",
       "      <td>120.0</td>\n",
       "    </tr>\n",
       "    <tr>\n",
       "      <th>4</th>\n",
       "      <td>0.343</td>\n",
       "      <td>0.343</td>\n",
       "      <td>0.343</td>\n",
       "      <td>0.657</td>\n",
       "      <td>0.549</td>\n",
       "      <td>105.0</td>\n",
       "    </tr>\n",
       "  </tbody>\n",
       "</table>\n",
       "</div>"
      ],
      "text/plain": [
       "     precision  recall  f1-score  specificity  accuracy  support\n",
       "1/2      0.265   0.265     0.265        0.735     0.611     81.0\n",
       "3        0.392   0.392     0.392        0.608     0.523    120.0\n",
       "4        0.343   0.343     0.343        0.657     0.549    105.0"
      ]
     },
     "execution_count": 9,
     "metadata": {},
     "output_type": "execute_result"
    }
   ],
   "source": [
    "pd.DataFrame(rm_score).T.sort_index()"
   ]
  },
  {
   "cell_type": "markdown",
   "id": "34d00ab2-6953-4642-b08b-11dd96807f3a",
   "metadata": {
    "jp-MarkdownHeadingCollapsed": true,
    "tags": []
   },
   "source": [
    "### Mean Model<a id='mean_model'></a>\n",
    "**Result:**\n",
    "|                |         | **sensitivity** | **specificity** | **precision** | **f1-score** | **accuracy** |**support** |\n",
    "|----------------|---------|-----------------|-----------------|---------------|--------------|--------------|------------|\n",
    "|**Mean Model**  | **1/2** | 0.445 | 0.733 | 0.440 | 0.429 | 0.704 | 20.37 |\n",
    "|                | **3**   | 0.470 | 0.643 | 0.492 | 0.643 | 0.601 | 30.22 |\n",
    "|                | **4**   | 0.656 | 0.696 | 0.631 | 0.696 | 0.75  | 26.41 |"
   ]
  },
  {
   "cell_type": "code",
   "execution_count": 15,
   "id": "bd59a192-2301-4d33-a90f-88c283b7608e",
   "metadata": {
    "jupyter": {
     "source_hidden": true
    },
    "tags": []
   },
   "outputs": [],
   "source": [
    "class MeanPredictor(BaseEstimator):\n",
    "    def fit(self, X, y):\n",
    "        xy = pd.concat([X, y], axis=1)\n",
    "        vecs = xy.groupby('Stage').mean()\n",
    "        self.mean_vecs_ = dict(zip(vecs.index, vecs.values))\n",
    "        return self\n",
    "\n",
    "    def predict(self, X):\n",
    "        X_vals = X.values\n",
    "        predictions = np.array([list(self.mean_vecs_.keys())[0]]*X_vals.shape[0])\n",
    "        for i in range(X_vals.shape[0]):\n",
    "            max_similarity = 0\n",
    "            for key, vec in self.mean_vecs_.items():\n",
    "                similarity = np.dot(vec, X_vals[i])/np.dot(vec, vec)\n",
    "                if similarity > max_similarity:\n",
    "                    predictions[i] = key\n",
    "                    max_similarity = similarity\n",
    "        return pd.DataFrame(predictions, columns=['Predicted Stage'])\n",
    "\n",
    "    def score(self, x_test, y_test):\n",
    "        y_pred = self.predict(x_test)\n",
    "        classifications = sorted(list(set(np.array(y_test).flatten()).union(set(np.array(y_pred).flatten()))))\n",
    "\n",
    "        c_matrix = confusion_matrix(y_test, y_pred, labels=classifications)\n",
    "        my_score = {}\n",
    "        for ind, my_class in enumerate(classifications):\n",
    "            tn = sum(c_matrix.diagonal()) - c_matrix[ind,ind]\n",
    "\n",
    "            precision = c_matrix[ind, ind]/sum(c_matrix[:,ind], 1e-9)\n",
    "            recall = c_matrix[ind, ind]/sum(c_matrix[ind,:], 1e-9)\n",
    "            f1 = 2*precision*recall/(precision+recall+1e-9)\n",
    "            specificity = tn/(tn+sum(c_matrix[:,ind])-c_matrix[ind,ind]+1e-9)\n",
    "            accuracy = (sum(sum(c_matrix)) - sum(c_matrix[ind,:]) - sum(c_matrix[:,ind]) + 2*c_matrix[ind,ind])/sum(sum(c_matrix),1e-9)\n",
    "            support = sum(c_matrix[ind,:])\n",
    "\n",
    "            my_score[my_class] = {'precision':precision, 'recall':recall, 'f1-score':f1,\n",
    "                                  'specificity':specificity, 'accuracy':accuracy, 'support':support}\n",
    "\n",
    "        return my_score"
   ]
  },
  {
   "cell_type": "code",
   "execution_count": 12,
   "id": "3f80a055-58e5-4e89-8dbc-8b7ccecd9ae5",
   "metadata": {
    "jupyter": {
     "source_hidden": true
    },
    "tags": []
   },
   "outputs": [],
   "source": [
    "def bs_mean_model(model, X, Y, m=10000, p1=2.5, p2=97.5):\n",
    "    # grabbing shape, index, and columns of model.score\n",
    "    x_train, x_test, y_train, y_test = train_test_split(X, Y, test_size=0.25)\n",
    "    model.fit(x_test, y_test)\n",
    "    my_df = pd.DataFrame(model.score(x_test, y_test)).T\n",
    "    a, b = my_df.shape\n",
    "    cols = my_df.columns\n",
    "    index = pd.MultiIndex.from_tuples(list(itertools.product(my_df.index, ['mean', str(p2-p1)+'% CI'])))\n",
    "    \n",
    "    # resampling dataset m times\n",
    "    bs_scores = np.empty([m, a, b])\n",
    "    for i in range(m):\n",
    "        x_train, x_test, y_train, y_test = train_test_split(X, Y, test_size=0.25)\n",
    "        model.fit(x_train, y_train)\n",
    "        bs_scores[i] = np.array([list(val.values()) for val in model.score(x_test, y_test).values()])\n",
    "    \n",
    "    # calculating statistics from bs data\n",
    "    means = np.mean(bs_scores, axis=0).round(3)\n",
    "    percentiles = np.percentile(bs_scores, [p1, p2], axis=0).round(3)\n",
    "\n",
    "    # reshaping percentiles so that last index holds the confidence interval\n",
    "    a, b = my_df.shape\n",
    "    ci = np.empty([a,b,2])\n",
    "    for i in range(a):\n",
    "        for j in range(b):\n",
    "            ci[i,j] = [percentiles[0,i,j], percentiles[1,i,j]]\n",
    "\n",
    "    # reshaping means and percentiles\n",
    "    data = []\n",
    "    for i in range(a):\n",
    "        data.append(means[i])\n",
    "        data.append(ci[i])\n",
    "\n",
    "    return pd.DataFrame(data, index=index, columns=cols)"
   ]
  },
  {
   "cell_type": "code",
   "execution_count": 14,
   "id": "11d29109-f580-4e38-97f3-ad464d4f4b61",
   "metadata": {
    "tags": []
   },
   "outputs": [
    {
     "data": {
      "text/html": [
       "<div>\n",
       "<style scoped>\n",
       "    .dataframe tbody tr th:only-of-type {\n",
       "        vertical-align: middle;\n",
       "    }\n",
       "\n",
       "    .dataframe tbody tr th {\n",
       "        vertical-align: top;\n",
       "    }\n",
       "\n",
       "    .dataframe thead th {\n",
       "        text-align: right;\n",
       "    }\n",
       "</style>\n",
       "<table border=\"1\" class=\"dataframe\">\n",
       "  <thead>\n",
       "    <tr style=\"text-align: right;\">\n",
       "      <th></th>\n",
       "      <th></th>\n",
       "      <th>precision</th>\n",
       "      <th>recall</th>\n",
       "      <th>f1-score</th>\n",
       "      <th>specificity</th>\n",
       "      <th>accuracy</th>\n",
       "      <th>support</th>\n",
       "    </tr>\n",
       "  </thead>\n",
       "  <tbody>\n",
       "    <tr>\n",
       "      <th rowspan=\"2\" valign=\"top\">1/2</th>\n",
       "      <th>mean</th>\n",
       "      <td>0.44</td>\n",
       "      <td>0.445</td>\n",
       "      <td>0.429</td>\n",
       "      <td>0.733</td>\n",
       "      <td>0.703</td>\n",
       "      <td>20.368</td>\n",
       "    </tr>\n",
       "    <tr>\n",
       "      <th>95.0% CI</th>\n",
       "      <td>[0.235, 0.65]</td>\n",
       "      <td>[0.143, 0.737]</td>\n",
       "      <td>[0.187, 0.615]</td>\n",
       "      <td>[0.548, 0.902]</td>\n",
       "      <td>[0.61, 0.792]</td>\n",
       "      <td>[14.0, 27.0]</td>\n",
       "    </tr>\n",
       "    <tr>\n",
       "      <th rowspan=\"2\" valign=\"top\">3</th>\n",
       "      <th>mean</th>\n",
       "      <td>0.492</td>\n",
       "      <td>0.47</td>\n",
       "      <td>0.474</td>\n",
       "      <td>0.643</td>\n",
       "      <td>0.601</td>\n",
       "      <td>30.218</td>\n",
       "    </tr>\n",
       "    <tr>\n",
       "      <th>95.0% CI</th>\n",
       "      <td>[0.333, 0.655]</td>\n",
       "      <td>[0.259, 0.677]</td>\n",
       "      <td>[0.304, 0.615]</td>\n",
       "      <td>[0.471, 0.804]</td>\n",
       "      <td>[0.506, 0.688]</td>\n",
       "      <td>[23.0, 38.0]</td>\n",
       "    </tr>\n",
       "    <tr>\n",
       "      <th rowspan=\"2\" valign=\"top\">4</th>\n",
       "      <th>mean</th>\n",
       "      <td>0.631</td>\n",
       "      <td>0.656</td>\n",
       "      <td>0.639</td>\n",
       "      <td>0.696</td>\n",
       "      <td>0.75</td>\n",
       "      <td>26.414</td>\n",
       "    </tr>\n",
       "    <tr>\n",
       "      <th>95.0% CI</th>\n",
       "      <td>[0.458, 0.8]</td>\n",
       "      <td>[0.48, 0.821]</td>\n",
       "      <td>[0.49, 0.766]</td>\n",
       "      <td>[0.533, 0.848]</td>\n",
       "      <td>[0.662, 0.831]</td>\n",
       "      <td>[19.0, 33.0]</td>\n",
       "    </tr>\n",
       "  </tbody>\n",
       "</table>\n",
       "</div>"
      ],
      "text/plain": [
       "                   precision          recall        f1-score     specificity  \\\n",
       "1/2 mean                0.44           0.445           0.429           0.733   \n",
       "    95.0% CI   [0.235, 0.65]  [0.143, 0.737]  [0.187, 0.615]  [0.548, 0.902]   \n",
       "3   mean               0.492            0.47           0.474           0.643   \n",
       "    95.0% CI  [0.333, 0.655]  [0.259, 0.677]  [0.304, 0.615]  [0.471, 0.804]   \n",
       "4   mean               0.631           0.656           0.639           0.696   \n",
       "    95.0% CI    [0.458, 0.8]   [0.48, 0.821]   [0.49, 0.766]  [0.533, 0.848]   \n",
       "\n",
       "                    accuracy       support  \n",
       "1/2 mean               0.703        20.368  \n",
       "    95.0% CI   [0.61, 0.792]  [14.0, 27.0]  \n",
       "3   mean               0.601        30.218  \n",
       "    95.0% CI  [0.506, 0.688]  [23.0, 38.0]  \n",
       "4   mean                0.75        26.414  \n",
       "    95.0% CI  [0.662, 0.831]  [19.0, 33.0]  "
      ]
     },
     "execution_count": 14,
     "metadata": {},
     "output_type": "execute_result"
    }
   ],
   "source": [
    "with warnings.catch_warnings():\n",
    "    warnings.simplefilter('ignore')\n",
    "    bs_mean_result = bs_mean_model(MeanPredictor(), X, Y, m=10000)\n",
    "bs_mean_result"
   ]
  },
  {
   "cell_type": "code",
   "execution_count": 15,
   "id": "564f8c70-cc58-4266-bfc4-7ae0e7a9b413",
   "metadata": {
    "tags": []
   },
   "outputs": [
    {
     "data": {
      "text/html": [
       "<div>\n",
       "<style scoped>\n",
       "    .dataframe tbody tr th:only-of-type {\n",
       "        vertical-align: middle;\n",
       "    }\n",
       "\n",
       "    .dataframe tbody tr th {\n",
       "        vertical-align: top;\n",
       "    }\n",
       "\n",
       "    .dataframe thead th {\n",
       "        text-align: right;\n",
       "    }\n",
       "</style>\n",
       "<table border=\"1\" class=\"dataframe\">\n",
       "  <thead>\n",
       "    <tr style=\"text-align: right;\">\n",
       "      <th></th>\n",
       "      <th>Hepatomegaly</th>\n",
       "      <th>Spiders</th>\n",
       "      <th>Drug_D-penicillamine</th>\n",
       "      <th>Drug_Placebo</th>\n",
       "      <th>Edema_N</th>\n",
       "      <th>Edema_S</th>\n",
       "      <th>Edema_Y</th>\n",
       "      <th>Sex_F</th>\n",
       "      <th>Sex_M</th>\n",
       "      <th>Age</th>\n",
       "      <th>...</th>\n",
       "      <th>Albumin</th>\n",
       "      <th>Copper</th>\n",
       "      <th>Alk_Phos</th>\n",
       "      <th>SGOT</th>\n",
       "      <th>Triglycerides</th>\n",
       "      <th>Platelets</th>\n",
       "      <th>Prothrombin</th>\n",
       "      <th>ALBI</th>\n",
       "      <th>APRI</th>\n",
       "      <th>FIB-4</th>\n",
       "    </tr>\n",
       "    <tr>\n",
       "      <th>Stage</th>\n",
       "      <th></th>\n",
       "      <th></th>\n",
       "      <th></th>\n",
       "      <th></th>\n",
       "      <th></th>\n",
       "      <th></th>\n",
       "      <th></th>\n",
       "      <th></th>\n",
       "      <th></th>\n",
       "      <th></th>\n",
       "      <th></th>\n",
       "      <th></th>\n",
       "      <th></th>\n",
       "      <th></th>\n",
       "      <th></th>\n",
       "      <th></th>\n",
       "      <th></th>\n",
       "      <th></th>\n",
       "      <th></th>\n",
       "      <th></th>\n",
       "      <th></th>\n",
       "    </tr>\n",
       "  </thead>\n",
       "  <tbody>\n",
       "    <tr>\n",
       "      <th>1/2</th>\n",
       "      <td>-0.568676</td>\n",
       "      <td>-0.350580</td>\n",
       "      <td>0.140913</td>\n",
       "      <td>-0.140913</td>\n",
       "      <td>0.247903</td>\n",
       "      <td>-0.146088</td>\n",
       "      <td>-0.197531</td>\n",
       "      <td>0.020286</td>\n",
       "      <td>-0.020286</td>\n",
       "      <td>-0.130576</td>\n",
       "      <td>...</td>\n",
       "      <td>0.294278</td>\n",
       "      <td>-0.352022</td>\n",
       "      <td>-0.077408</td>\n",
       "      <td>-0.280853</td>\n",
       "      <td>-0.183800</td>\n",
       "      <td>0.336605</td>\n",
       "      <td>-0.342737</td>\n",
       "      <td>-0.484995</td>\n",
       "      <td>-0.270299</td>\n",
       "      <td>-0.225925</td>\n",
       "    </tr>\n",
       "    <tr>\n",
       "      <th>3</th>\n",
       "      <td>-0.129750</td>\n",
       "      <td>-0.069066</td>\n",
       "      <td>-0.086291</td>\n",
       "      <td>0.086291</td>\n",
       "      <td>0.094183</td>\n",
       "      <td>0.000567</td>\n",
       "      <td>-0.143750</td>\n",
       "      <td>0.054772</td>\n",
       "      <td>-0.054772</td>\n",
       "      <td>-0.155597</td>\n",
       "      <td>...</td>\n",
       "      <td>0.257482</td>\n",
       "      <td>-0.025871</td>\n",
       "      <td>0.051898</td>\n",
       "      <td>0.072983</td>\n",
       "      <td>0.132306</td>\n",
       "      <td>0.096423</td>\n",
       "      <td>-0.206631</td>\n",
       "      <td>-0.123065</td>\n",
       "      <td>-0.110013</td>\n",
       "      <td>-0.151774</td>\n",
       "    </tr>\n",
       "    <tr>\n",
       "      <th>4</th>\n",
       "      <td>0.586978</td>\n",
       "      <td>0.349379</td>\n",
       "      <td>-0.010086</td>\n",
       "      <td>0.010086</td>\n",
       "      <td>-0.298877</td>\n",
       "      <td>0.112049</td>\n",
       "      <td>0.316667</td>\n",
       "      <td>-0.078246</td>\n",
       "      <td>0.078246</td>\n",
       "      <td>0.278556</td>\n",
       "      <td>...</td>\n",
       "      <td>-0.521279</td>\n",
       "      <td>0.292179</td>\n",
       "      <td>0.000403</td>\n",
       "      <td>0.133249</td>\n",
       "      <td>-0.047425</td>\n",
       "      <td>-0.364239</td>\n",
       "      <td>0.500547</td>\n",
       "      <td>0.514784</td>\n",
       "      <td>0.316716</td>\n",
       "      <td>0.339111</td>\n",
       "    </tr>\n",
       "  </tbody>\n",
       "</table>\n",
       "<p>3 rows × 22 columns</p>\n",
       "</div>"
      ],
      "text/plain": [
       "       Hepatomegaly   Spiders  Drug_D-penicillamine  Drug_Placebo   Edema_N  \\\n",
       "Stage                                                                         \n",
       "1/2       -0.568676 -0.350580              0.140913     -0.140913  0.247903   \n",
       "3         -0.129750 -0.069066             -0.086291      0.086291  0.094183   \n",
       "4          0.586978  0.349379             -0.010086      0.010086 -0.298877   \n",
       "\n",
       "        Edema_S   Edema_Y     Sex_F     Sex_M       Age  ...   Albumin  \\\n",
       "Stage                                                    ...             \n",
       "1/2   -0.146088 -0.197531  0.020286 -0.020286 -0.130576  ...  0.294278   \n",
       "3      0.000567 -0.143750  0.054772 -0.054772 -0.155597  ...  0.257482   \n",
       "4      0.112049  0.316667 -0.078246  0.078246  0.278556  ... -0.521279   \n",
       "\n",
       "         Copper  Alk_Phos      SGOT  Triglycerides  Platelets  Prothrombin  \\\n",
       "Stage                                                                        \n",
       "1/2   -0.352022 -0.077408 -0.280853      -0.183800   0.336605    -0.342737   \n",
       "3     -0.025871  0.051898  0.072983       0.132306   0.096423    -0.206631   \n",
       "4      0.292179  0.000403  0.133249      -0.047425  -0.364239     0.500547   \n",
       "\n",
       "           ALBI      APRI     FIB-4  \n",
       "Stage                                \n",
       "1/2   -0.484995 -0.270299 -0.225925  \n",
       "3     -0.123065 -0.110013 -0.151774  \n",
       "4      0.514784  0.316716  0.339111  \n",
       "\n",
       "[3 rows x 22 columns]"
      ]
     },
     "execution_count": 15,
     "metadata": {},
     "output_type": "execute_result"
    }
   ],
   "source": [
    "# mean vectors for each stage, post standard scaling\n",
    "pd.concat([X,Y], axis=1).groupby('Stage').mean()"
   ]
  },
  {
   "cell_type": "markdown",
   "id": "9d3df58c-50b9-4c1d-917c-6c97bd7ef3c5",
   "metadata": {
    "jp-MarkdownHeadingCollapsed": true,
    "tags": []
   },
   "source": [
    "### ALBI Model<a id='albi_model'></a>\n",
    "ALBI score originally based on 1313 patients with all stages of HCC from Japan. Specificity was then tested on patients with chronic liver disease but without HCC (n=501).\n",
    "\n",
    "For predicting fibrosis staging, 382 Japanese patients enrolled, all with Hep C infection. \\\n",
    "With ALBI cut-off of −2.561, the sensitivity and specificity were 79.3% and 62.5%, respectively, with a positive likelihood ratio of 2.11 to differentiate advanced fibrosis (F3/F4) from non‐advanced fibrosis (F1/F2). \\\n",
    "With ALBI cut‐off of −2.125, the sensitivity and specificity were 73.2% and 87.1%, respectively, with a positive likelihood ratio of 5.67 for differentiating cirrhotic (F4) vs non-cirrhotic disease (F1-F3).\n",
    "\n",
    "For Mayo dataset, Albumin levels appear to be unusually low compared to the healthy patients today. With Albumin levels being lower, ALBI scores for my dataset are significantly more positive than that reported by others, including that reported in the references provided. It is uncertain why Albumin levels for the Mayo dataset are so low. I am inclined to attribute it to differences in patient population. \n",
    "\n",
    "**Result:**\n",
    "|              |             | **Advanced Fibrosis (F3)** | **Cirrhosis (F4)** |\n",
    "|--------------|-------------|------------------------|----------------|\n",
    "|**ALBI Score**| AUC         | 0.705 | 0.733|\n",
    "|              | Best cutoff | -0.32 | -0.3 |\n",
    "|              | Sensitivity | 0.653 | 0.81 |\n",
    "|              | Specificity | 0.704 | 0.592|\n",
    "|              | Accuracy    | 0.667 | 0.667|\n",
    "|              | Precision   | 0.860 | 0.509|\n",
    "|              | F1-Score    | 0.742 | 0.625|\n",
    "\n",
    "**Ref:** \\\n",
    "Introduction of ALBI - https://www.ncbi.nlm.nih.gov/pmc/articles/PMC4322258/ \\\n",
    "ALBI for fibrosis staging - https://www.ncbi.nlm.nih.gov/pmc/articles/PMC6851801/"
   ]
  },
  {
   "cell_type": "code",
   "execution_count": 13,
   "id": "63f22b64-29ed-4a32-b857-cee62d9625eb",
   "metadata": {
    "tags": []
   },
   "outputs": [],
   "source": [
    "def partial_process(df):\n",
    "    feature_union = FeatureUnion([\n",
    "        ('bin_trans', BinCategoricalTransformer(columns=['Hepatomegaly', 'Spiders'])),\n",
    "        ('cat_trans', CategoricalTransformer(columns=['Drug', 'Edema', 'Sex'])),\n",
    "        ('num_trans', NumericalTransformer(columns=['Age', 'Bilirubin', 'Cholesterol', 'Albumin', 'Copper', \n",
    "                                                    'Alk_Phos', 'SGOT', 'Triglycerides', 'Platelets', 'Prothrombin', 'ALBI', 'APRI', 'FIB-4']))\n",
    "    ])\n",
    "    knn_impute_pipe = Pipeline([\n",
    "        ('features', feature_union),\n",
    "        ('knn_impute', KNNImputer())\n",
    "    ])\n",
    "\n",
    "    df_imputed = knn_impute_pipe.fit_transform(df)\n",
    "\n",
    "    transformers = ['bin_trans', 'cat_trans', 'num_trans']\n",
    "    cols = []\n",
    "    for trans in transformers:\n",
    "        trans_cols = knn_impute_pipe['features'][trans].transform(df).columns.values\n",
    "        cols.extend(trans_cols)\n",
    "\n",
    "    df_imputed = pd.DataFrame(df_imputed, columns=cols)\n",
    "    df_imputed['Stage'] = df['Stage']\n",
    "    \n",
    "    return df_imputed"
   ]
  },
  {
   "cell_type": "code",
   "execution_count": 55,
   "id": "b354ad26-233a-406b-b802-27f9f9652e54",
   "metadata": {
    "tags": []
   },
   "outputs": [],
   "source": [
    "def calc_class_scores(true, pred):\n",
    "    '''\n",
    "    Calculates sensitivity, specifity, and accuracy for binary classification from array of true values and predicted values.\n",
    "    True values correspond with rows and classes are ordered alphabetically.\n",
    "    Returns (sensitivity, specificity, accuracy)\n",
    "    '''\n",
    "    classifications = sorted(list(set(np.array(true).flatten()).union(set(np.array(pred).flatten()))))\n",
    "\n",
    "    c_matrix = confusion_matrix(true, pred, labels=classifications)\n",
    "    sensitivity = c_matrix[1,1]/sum(c_matrix[1,:], 1e-9)\n",
    "    specificity = c_matrix[0,0]/sum(c_matrix[0,:], 1e-9)\n",
    "    precision = c_matrix[1,1]/sum(c_matrix[:,1], 1e-9)\n",
    "    f1 = 2*precision*sensitivity/(precision+sensitivity)\n",
    "    accuracy = sum(c_matrix.diagonal())/sum(sum(c_matrix))\n",
    "    \n",
    "    return (sensitivity, specificity, precision, f1, accuracy)"
   ]
  },
  {
   "cell_type": "code",
   "execution_count": 56,
   "id": "5ef36ee1-d79a-4f17-beef-9e860753b75c",
   "metadata": {
    "tags": []
   },
   "outputs": [],
   "source": [
    "def ecdf(array):\n",
    "    '''\n",
    "    Calculates empirical cumulative distribution function from array of variables (1-D)\n",
    "    Returns (xs, ys) of ecdf\n",
    "    '''\n",
    "    xs = np.array(sorted(array))\n",
    "    ys = np.arange(1,len(array)+1)/len(array)\n",
    "    return (xs, ys)"
   ]
  },
  {
   "cell_type": "code",
   "execution_count": 57,
   "id": "ceeb8012-7b1d-42dc-bb7a-e10318f02faf",
   "metadata": {
    "tags": []
   },
   "outputs": [],
   "source": [
    "part_process_df = partial_process(df)"
   ]
  },
  {
   "cell_type": "code",
   "execution_count": 58,
   "id": "b1ca922f-bbd0-4edb-b7a1-b0313206393a",
   "metadata": {
    "tags": []
   },
   "outputs": [
    {
     "data": {
      "image/png": "[encoded data removed]",
      "text/plain": [
       "<Figure size 400x300 with 1 Axes>"
      ]
     },
     "metadata": {},
     "output_type": "display_data"
    }
   ],
   "source": [
    "# Getting sense of how ALBI are distributed\n",
    "x, y = ecdf(part_process_df['ALBI'])\n",
    "plt.figure(figsize=(4,3))\n",
    "plt.plot(x,y,marker='.', linestyle='none')\n",
    "plt.xlabel('ALBI')\n",
    "plt.ylabel('ecdf');"
   ]
  },
  {
   "cell_type": "markdown",
   "id": "9b5200be-78a0-4410-9f96-cd0f143142aa",
   "metadata": {
    "jp-MarkdownHeadingCollapsed": true,
    "tags": []
   },
   "source": [
    "#### Predicting Advanced Fibrosis<a id='predicting_advanced_fibrosis_albi'></a>"
   ]
  },
  {
   "cell_type": "code",
   "execution_count": 68,
   "id": "0e4336ae-431d-4486-a03e-7580b0f87c64",
   "metadata": {
    "tags": []
   },
   "outputs": [
    {
     "name": "stdout",
     "output_type": "stream",
     "text": [
      "AUC: 0.705\n"
     ]
    },
    {
     "data": {
      "image/png": "[encoded data removed]",
      "text/plain": [
       "<Figure size 400x300 with 1 Axes>"
      ]
     },
     "metadata": {},
     "output_type": "display_data"
    }
   ],
   "source": [
    "# for differentiating between advanced fibrosis (F3/F4) and non-advanced fibrosis (F1/F2)\n",
    "with warnings.catch_warnings():\n",
    "    warnings.simplefilter('ignore')\n",
    "    albi_df = preprocess_df[['ALBI']]\n",
    "    albi_df['Stage'] = preprocess_df.Stage.str.replace('3|4','3/4',regex=True)\n",
    "    albi_vals = np.linspace(-2,3,251)\n",
    "    scores = np.empty([251,5])\n",
    "    true = albi_df['Stage'].values\n",
    "    for ind, cutoff in enumerate(albi_vals):\n",
    "        pred = np.array(['1/2' if val < cutoff else '3/4' for val in albi_df['ALBI'].values], dtype='object')\n",
    "        scores[ind] = calc_class_scores(true, pred)\n",
    "\n",
    "# note: because the positive case is non-cirrhotic, sensitivity and specificity are reversed\n",
    "plt.figure(figsize=(4,3))\n",
    "plt.plot(100-100*scores[:,1], 100*scores[:,0], marker='.', linestyle='none')\n",
    "plt.xlabel('100% - Specificity%')\n",
    "plt.ylabel('Sensitivity%')\n",
    "print('AUC: {:.3f}'.format(np.trapz(scores[:,0], x=scores[:,1]-1)));"
   ]
  },
  {
   "cell_type": "code",
   "execution_count": 69,
   "id": "0038e774-a3fd-44ae-850e-ca69f1213454",
   "metadata": {
    "tags": []
   },
   "outputs": [
    {
     "name": "stdout",
     "output_type": "stream",
     "text": [
      "ALBI cut-off: -0.320\n",
      "sensitivity (predict advanced): 0.653\n",
      "specificity (predict non-advanced): 0.704\n",
      "accuracy: 0.667\n",
      "precision: 0.860\n",
      "f1-score: 0.742\n"
     ]
    }
   ],
   "source": [
    "# finding the cut-off which corresponds to maximizing the product of sensitivity and specificity\n",
    "max_ind, max_val = (0, 0)\n",
    "for ind, val in enumerate(scores[:,1]*scores[:,0]/(scores[:,1]+scores[:,0])):\n",
    "    if val > max_val:\n",
    "        max_val = val\n",
    "        max_ind = ind\n",
    "print('ALBI cut-off: {:.3f}'.format(albi_vals[max_ind]))\n",
    "print('sensitivity (predict advanced): {:.3f}'.format(scores[max_ind,0]))\n",
    "print('specificity (predict non-advanced): {:.3f}'.format(scores[max_ind,1]))\n",
    "print('accuracy: {:.3f}'.format(scores[max_ind,4]))\n",
    "print('precision: {:.3f}'.format(scores[max_ind,2]))\n",
    "print('f1-score: {:.3f}'.format(scores[max_ind,3]))"
   ]
  },
  {
   "cell_type": "code",
   "execution_count": 66,
   "id": "d93c1fc9-1c7e-4fb3-bef6-bf770fdf4a5d",
   "metadata": {
    "tags": []
   },
   "outputs": [
    {
     "name": "stdout",
     "output_type": "stream",
     "text": [
      "ALBI cut-off: -2.600\n",
      "sensitivity (predict advanced): 0.004\n",
      "specificity (predict non-advanced): 1.000\n",
      "accuracy: 0.268\n",
      "precision: 1.000\n",
      "f1-score: 0.009\n"
     ]
    },
    {
     "name": "stderr",
     "output_type": "stream",
     "text": [
      "C:\\Users\\kimvo\\AppData\\Local\\Temp\\ipykernel_8988\\56723183.py:4: SettingWithCopyWarning: \n",
      "A value is trying to be set on a copy of a slice from a DataFrame.\n",
      "Try using .loc[row_indexer,col_indexer] = value instead\n",
      "\n",
      "See the caveats in the documentation: https://pandas.pydata.org/pandas-docs/stable/user_guide/indexing.html#returning-a-view-versus-a-copy\n",
      "  albi_df['Stage'] = preprocess_df.Stage.str.replace('3|4','3/4',regex=True)\n"
     ]
    }
   ],
   "source": [
    "# corresponding sensitivity, specificity, and accuracy using the published cut-off value\n",
    "# remember, the published data trained on Hep C patients\n",
    "albi_df = preprocess_df[['ALBI', 'Stage']]\n",
    "albi_df['Stage'] = preprocess_df.Stage.str.replace('3|4','3/4',regex=True)\n",
    "albi_cutoff = -2.6\n",
    "pred = np.array(['1/2' if val < cutoff else '3/4' for val in albi_df['ALBI'].values], dtype='object')\n",
    "true = albi_df['Stage'].values\n",
    "scores = calc_class_scores(true, pred)\n",
    "\n",
    "print('ALBI cut-off: {:.3f}'.format(albi_cutoff))\n",
    "print('sensitivity (predict advanced): {:.3f}'.format(scores[0]))\n",
    "print('specificity (predict non-advanced): {:.3f}'.format(scores[1]))\n",
    "print('accuracy: {:.3f}'.format(scores[4]))\n",
    "print('precision: {:.3f}'.format(scores[2]))\n",
    "print('f1-score: {:.3f}'.format(scores[3]))"
   ]
  },
  {
   "cell_type": "markdown",
   "id": "be068ce5-d5f0-48ca-bf76-1950fe9a20cd",
   "metadata": {
    "tags": []
   },
   "source": [
    "#### Predicting Cirrhosis<a id='predicting_cirrhosis_albi'></a>"
   ]
  },
  {
   "cell_type": "code",
   "execution_count": 71,
   "id": "6b32db08-e519-4ea3-aaf8-8c45aa6b1877",
   "metadata": {
    "tags": []
   },
   "outputs": [
    {
     "name": "stdout",
     "output_type": "stream",
     "text": [
      "AUC: -0.723\n"
     ]
    },
    {
     "data": {
      "image/png": "[encoded data removed]",
      "text/plain": [
       "<Figure size 400x300 with 1 Axes>"
      ]
     },
     "metadata": {},
     "output_type": "display_data"
    }
   ],
   "source": [
    "# for differentiating between non-cirrhotic (F1/F2/F3) and cirrhotic (F4)\n",
    "with warnings.catch_warnings():\n",
    "    warnings.simplefilter('ignore')\n",
    "    albi_df = preprocess_df[['ALBI', 'Stage']]\n",
    "    albi_df['Stage'] = preprocess_df.Stage.str.replace('1/2|3','1/2/3',regex=True)\n",
    "    albi_vals = np.linspace(-2,3,251)\n",
    "    scores = np.empty([251,5])\n",
    "    true = albi_df['Stage'].values\n",
    "    for ind, cutoff in enumerate(albi_vals):\n",
    "        pred = np.array(['1/2/3' if val < cutoff else '4' for val in albi_df['ALBI'].values], dtype='object')\n",
    "        scores[ind] = calc_class_scores(true, pred)\n",
    "\n",
    "# note: because the positive case is non-cirrhotic, sensitivity and specificity are reversed\n",
    "plt.figure(figsize=(4,3))\n",
    "plt.plot(100-100*scores[:,0], 100*scores[:,1], marker='.', linestyle='none')\n",
    "plt.xlabel('100% - Specificity%')\n",
    "plt.ylabel('Sensitivity%')\n",
    "print('AUC: {:.3f}'.format(np.trapz(scores[:,1], x=scores[:,0]-1)));"
   ]
  },
  {
   "cell_type": "code",
   "execution_count": 72,
   "id": "2193f58b-0e36-4ad2-a81c-1a177ad35aad",
   "metadata": {
    "tags": []
   },
   "outputs": [
    {
     "name": "stdout",
     "output_type": "stream",
     "text": [
      "ALBI cut-off: -0.300\n",
      "sensitivity (predict cirrhotic): 0.810\n",
      "specificity (predict non-cirrhotic): 0.592\n",
      "accuracy: 0.667\n",
      "precision: 0.509\n",
      "f1-score: 0.625\n"
     ]
    }
   ],
   "source": [
    "# finding the cut-off which corresponds to maximizing the product of sensitivity and specificity\n",
    "max_ind, max_val = (0, 0)\n",
    "for ind, val in enumerate(scores[:,0]*scores[:,1]):\n",
    "    if val > max_val:\n",
    "        max_val = val\n",
    "        max_ind = ind\n",
    "print('ALBI cut-off: {:.3f}'.format(albi_vals[max_ind]))\n",
    "print('sensitivity (predict cirrhotic): {:.3f}'.format(scores[max_ind,0]))\n",
    "print('specificity (predict non-cirrhotic): {:.3f}'.format(scores[max_ind,1]))\n",
    "print('accuracy: {:.3f}'.format(scores[max_ind,4]))\n",
    "print('precision: {:.3f}'.format(scores[max_ind,2]))\n",
    "print('f1-score: {:.3f}'.format(scores[max_ind,3]))"
   ]
  },
  {
   "cell_type": "code",
   "execution_count": 38,
   "id": "40fc0866-0dea-41bd-96f7-43408a940ef1",
   "metadata": {
    "tags": []
   },
   "outputs": [
    {
     "name": "stdout",
     "output_type": "stream",
     "text": [
      "ALBI cut-off: -2.125\n",
      "sensitivity (predict non-cirrhotic): 1.000\n",
      "specificity (predict cirrhotic): 0.010\n",
      "accuracy: 0.660\n",
      "precision: 0.010\n",
      "f1-score: 0.019\n"
     ]
    },
    {
     "name": "stderr",
     "output_type": "stream",
     "text": [
      "C:\\Users\\kimvo\\AppData\\Local\\Temp\\ipykernel_8988\\2838703662.py:4: SettingWithCopyWarning: \n",
      "A value is trying to be set on a copy of a slice from a DataFrame.\n",
      "Try using .loc[row_indexer,col_indexer] = value instead\n",
      "\n",
      "See the caveats in the documentation: https://pandas.pydata.org/pandas-docs/stable/user_guide/indexing.html#returning-a-view-versus-a-copy\n",
      "  albi_df['Stage'] = preprocess_df.Stage.str.replace('1/2|3','1/2/3',regex=True)\n"
     ]
    }
   ],
   "source": [
    "# corresponding sensitivity, specificity, and accuracy using the published cut-off value\n",
    "# remember, the published data trained on Hep C patients\n",
    "albi_df = preprocess_df[['ALBI', 'Stage']]\n",
    "albi_df['Stage'] = preprocess_df.Stage.str.replace('1/2|3','1/2/3',regex=True)\n",
    "albi_cutoff = -2.125\n",
    "pred = np.array(['1/2/3' if val < cutoff else '4' for val in albi_df['ALBI'].values], dtype='object')\n",
    "true = albi_df['Stage'].values\n",
    "scores = calc_class_scores(true, pred)\n",
    "\n",
    "print('ALBI cut-off: {:.3f}'.format(albi_cutoff))\n",
    "print('sensitivity (predict non-cirrhotic): {:.3f}'.format(scores[0]))\n",
    "print('specificity (predict cirrhotic): {:.3f}'.format(scores[1]))\n",
    "print('accuracy: {:.3f}'.format(scores[4]))\n",
    "print('precision: {:.3f}'.format(scores[2]))\n",
    "print('f1-score: {:.3f}'.format(scores[3]))"
   ]
  },
  {
   "cell_type": "markdown",
   "id": "fac681b1-6363-4e81-aa7a-d1883e156e58",
   "metadata": {
    "jp-MarkdownHeadingCollapsed": true,
    "tags": []
   },
   "source": [
    "### APRI Model <a id='albi_model'></a>\n",
    "**Result:**\n",
    "|              |             | **Advanced Fibrosis (F3)** | **Cirrhosis (F4)** |\n",
    "|--------------|-------------|------------------------|----------------|\n",
    "|**APRI Score**| AUC         | 0.673 | 0.660|\n",
    "|              | Best cutoff | -0.38 | -0.22 |\n",
    "|              | Sensitivity | 0.649 | 0.638 |\n",
    "|              | Specificity | 0.654 | 0.657|\n",
    "|              | Accuracy    | 0.65  | 0.65|\n",
    "|              | Precision   | 0.849 | 0.493 |\n",
    "|              | F1-Score    | 0.732 | 0.556 |"
   ]
  },
  {
   "cell_type": "code",
   "execution_count": 83,
   "id": "d2bd4f14-0521-46d2-9b52-6018a7da29c4",
   "metadata": {
    "tags": []
   },
   "outputs": [],
   "source": [
    "part_process_df = partial_process(df)"
   ]
  },
  {
   "cell_type": "code",
   "execution_count": 84,
   "id": "16f84fb3-4aeb-489f-ac1f-b9bfe4537e69",
   "metadata": {
    "tags": []
   },
   "outputs": [
    {
     "data": {
      "image/png": "[encoded data removed]",
      "text/plain": [
       "<Figure size 400x300 with 1 Axes>"
      ]
     },
     "metadata": {},
     "output_type": "display_data"
    }
   ],
   "source": [
    "# Getting sense of how APRI is distributed\n",
    "x, y = ecdf(part_process_df['APRI'])\n",
    "plt.figure(figsize=(4,3))\n",
    "plt.plot(x,y,marker='.', linestyle='none')\n",
    "plt.xlabel('APRI')\n",
    "plt.ylabel('ecdf')\n",
    "plt.xlim([-1.5,3]);"
   ]
  },
  {
   "cell_type": "markdown",
   "id": "5eeca43b-c155-4c3f-b0a6-e83e421af04c",
   "metadata": {
    "jp-MarkdownHeadingCollapsed": true,
    "tags": []
   },
   "source": [
    "#### Predicting Advanced Fibrosis<a id='predicting_advanced_fibrosis_apri'></a>"
   ]
  },
  {
   "cell_type": "code",
   "execution_count": 78,
   "id": "7a3ef6ab-9767-487c-81f8-9516e2c56d7a",
   "metadata": {
    "tags": []
   },
   "outputs": [
    {
     "name": "stdout",
     "output_type": "stream",
     "text": [
      "AUC: 0.673\n"
     ]
    },
    {
     "data": {
      "image/png": "[encoded data removed]",
      "text/plain": [
       "<Figure size 400x300 with 1 Axes>"
      ]
     },
     "metadata": {},
     "output_type": "display_data"
    }
   ],
   "source": [
    "# for differentiating between advanced fibrosis (F3/F4) and non-advanced fibrosis (F1/F2)\n",
    "with warnings.catch_warnings():\n",
    "    warnings.simplefilter('ignore')\n",
    "    apri_df = preprocess_df[['APRI']]\n",
    "    apri_df['Stage'] = preprocess_df.Stage.str.replace('3|4','3/4',regex=True)\n",
    "    apri_vals = np.linspace(-2,4,301)\n",
    "    scores = np.empty([301,5])\n",
    "    true = apri_df['Stage'].values\n",
    "    for ind, cutoff in enumerate(apri_vals):\n",
    "        pred = np.array(['1/2' if val < cutoff else '3/4' for val in apri_df['APRI'].values], dtype='object')\n",
    "        scores[ind] = calc_class_scores(true, pred)\n",
    "\n",
    "# note: because the positive case is non-cirrhotic, sensitivity and specificity are reversed\n",
    "plt.figure(figsize=(4,3))\n",
    "plt.plot(100-100*scores[:,1], 100*scores[:,0], marker='.', linestyle='none')\n",
    "plt.xlabel('100% - Specificity%')\n",
    "plt.ylabel('Sensitivity%')\n",
    "print('AUC: {:.3f}'.format(np.trapz(scores[:,0], x=scores[:,1]-1)));"
   ]
  },
  {
   "cell_type": "code",
   "execution_count": 75,
   "id": "dae2ebd2-0bd2-4c1f-953b-4d9ef716671d",
   "metadata": {
    "tags": []
   },
   "outputs": [
    {
     "name": "stdout",
     "output_type": "stream",
     "text": [
      "APRI cut-off: -0.380\n",
      "sensitivity (predict advanced): 0.649\n",
      "specificity (predict non-advanced): 0.654\n",
      "accuracy: 0.650\n",
      "precision: 0.839\n",
      "f1-score: 0.732\n"
     ]
    }
   ],
   "source": [
    "# finding the cut-off which corresponds to maximizing the product of sensitivity and specificity\n",
    "max_ind, max_val = (0, 0)\n",
    "for ind, val in enumerate(scores[:,0]*scores[:,1]):\n",
    "    if val > max_val:\n",
    "        max_val = val\n",
    "        max_ind = ind\n",
    "print('APRI cut-off: {:.3f}'.format(apri_vals[max_ind]))\n",
    "print('sensitivity (predict advanced): {:.3f}'.format(scores[max_ind,0]))\n",
    "print('specificity (predict non-advanced): {:.3f}'.format(scores[max_ind,1]))\n",
    "print('accuracy: {:.3f}'.format(scores[max_ind,4]))\n",
    "print('precision: {:.3f}'.format(scores[max_ind,2]))\n",
    "print('f1-score: {:.3f}'.format(scores[max_ind,3]))"
   ]
  },
  {
   "cell_type": "code",
   "execution_count": 41,
   "id": "dc5ce7c4-bf21-4a04-a02c-741205e82106",
   "metadata": {
    "tags": []
   },
   "outputs": [
    {
     "name": "stdout",
     "output_type": "stream",
     "text": [
      "APRI cut-off: -2.600\n",
      "sensitivity (predict non-advanced): 0.988\n",
      "specificity (predict advanced): 0.004\n",
      "accuracy: 0.265\n",
      "precision: 0.004\n",
      "f1-score: 0.009\n"
     ]
    },
    {
     "name": "stderr",
     "output_type": "stream",
     "text": [
      "C:\\Users\\kimvo\\AppData\\Local\\Temp\\ipykernel_8988\\584939532.py:4: SettingWithCopyWarning: \n",
      "A value is trying to be set on a copy of a slice from a DataFrame.\n",
      "Try using .loc[row_indexer,col_indexer] = value instead\n",
      "\n",
      "See the caveats in the documentation: https://pandas.pydata.org/pandas-docs/stable/user_guide/indexing.html#returning-a-view-versus-a-copy\n",
      "  apri_df['Stage'] = preprocess_df.Stage.str.replace('3|4','3/4',regex=True)\n"
     ]
    }
   ],
   "source": [
    "# corresponding sensitivity, specificity, and accuracy using the published cut-off value\n",
    "# remember, the published data trained on Hep C patients\n",
    "apri_df = preprocess_df[['APRI', 'Stage']]\n",
    "apri_df['Stage'] = preprocess_df.Stage.str.replace('3|4','3/4',regex=True)\n",
    "apri_cutoff = -2.6\n",
    "pred = np.array(['1/2' if val < cutoff else '3/4' for val in apri_df['APRI'].values], dtype='object')\n",
    "true = apri_df['Stage'].values\n",
    "scores = calc_class_scores(true, pred)\n",
    "\n",
    "print('APRI cut-off: {:.3f}'.format(apri_cutoff))\n",
    "print('sensitivity (predict non-advanced): {:.3f}'.format(scores[0]))\n",
    "print('specificity (predict advanced): {:.3f}'.format(scores[1]))\n",
    "print('accuracy: {:.3f}'.format(scores[4]))\n",
    "print('precision: {:.3f}'.format(scores[2]))\n",
    "print('f1-score: {:.3f}'.format(scores[3]))"
   ]
  },
  {
   "cell_type": "markdown",
   "id": "e53b789b-4877-428e-8713-8deca0889696",
   "metadata": {
    "tags": []
   },
   "source": [
    "#### Predicting Cirrhosis<a id='predicting_cirrhosis_apri'></a>"
   ]
  },
  {
   "cell_type": "code",
   "execution_count": 79,
   "id": "bc2ccd07-37c5-41f1-89d5-3aa2067532c9",
   "metadata": {
    "tags": []
   },
   "outputs": [
    {
     "name": "stdout",
     "output_type": "stream",
     "text": [
      "AUC: 0.660\n"
     ]
    },
    {
     "data": {
      "image/png": "[encoded data removed]",
      "text/plain": [
       "<Figure size 400x300 with 1 Axes>"
      ]
     },
     "metadata": {},
     "output_type": "display_data"
    }
   ],
   "source": [
    "# for differentiating between cirrhosis (F4) and non-cirrhosis (F1/F2/F3)\n",
    "with warnings.catch_warnings():\n",
    "    warnings.simplefilter('ignore')\n",
    "    apri_df = preprocess_df[['APRI']]\n",
    "    apri_df['Stage'] = preprocess_df.Stage.str.replace('1/2|3','1/2/3',regex=True)\n",
    "    apri_vals = np.linspace(-2,4,301)\n",
    "    scores = np.empty([301,5])\n",
    "    true = apri_df['Stage'].values\n",
    "    for ind, cutoff in enumerate(apri_vals):\n",
    "        pred = np.array(['1/2/3' if val < cutoff else '4' for val in apri_df['APRI'].values], dtype='object')\n",
    "        scores[ind] = calc_class_scores(true, pred)\n",
    "\n",
    "# note: because the positive case is non-cirrhotic, sensitivity and specificity are reversed\n",
    "plt.figure(figsize=(4,3))\n",
    "plt.plot(100-100*scores[:,1], 100*scores[:,0], marker='.', linestyle='none')\n",
    "plt.xlabel('100% - Specificity%')\n",
    "plt.ylabel('Sensitivity%')\n",
    "print('AUC: {:.3f}'.format(np.trapz(scores[:,0], x=scores[:,1]-1)));"
   ]
  },
  {
   "cell_type": "code",
   "execution_count": 80,
   "id": "06fec425-3db2-461d-8625-8a22fcf27886",
   "metadata": {
    "tags": []
   },
   "outputs": [
    {
     "name": "stdout",
     "output_type": "stream",
     "text": [
      "APRI cut-off: -0.220\n",
      "sensitivity (predict cirrhosis): 0.638\n",
      "specificity (predict non-cirrhosis): 0.657\n",
      "accuracy: 0.650\n",
      "precision: 0.493\n",
      "f1-score: 0.556\n"
     ]
    }
   ],
   "source": [
    "# finding the cut-off which corresponds to maximizing the sum of sensitivity, specificity, and accuracy\n",
    "max_ind, max_val = (0, 0)\n",
    "for ind, val in enumerate(scores[:,0]*scores[:,1]):\n",
    "    if val > max_val:\n",
    "        max_val = val\n",
    "        max_ind = ind\n",
    "print('APRI cut-off: {:.3f}'.format(apri_vals[max_ind]))\n",
    "print('sensitivity (predict cirrhosis): {:.3f}'.format(scores[max_ind,0]))\n",
    "print('specificity (predict non-cirrhosis): {:.3f}'.format(scores[max_ind,1]))\n",
    "print('accuracy: {:.3f}'.format(scores[max_ind,4]))\n",
    "print('precision: {:.3f}'.format(scores[max_ind,2]))\n",
    "print('f1-score: {:.3f}'.format(scores[max_ind,3]))"
   ]
  },
  {
   "cell_type": "markdown",
   "id": "ff8f7be0-00db-48fe-8932-d875826dfba3",
   "metadata": {
    "jp-MarkdownHeadingCollapsed": true,
    "tags": []
   },
   "source": [
    "### FIB-4 Model<a id='fib-4_model'></a>\n",
    "**Result:**\n",
    "|               |             | **Advanced Fibrosis (F3)** | **Cirrhosis (F4)** |\n",
    "|---------------|-------------|------------------------|----------------|\n",
    "|**FIB-4 Score**| AUC         | 0.624 | 0.659|\n",
    "|               | Best cutoff | -0.24 | -0.16 |\n",
    "|               | Sensitivity | 0.556 | 0.59 |\n",
    "|               | Specificity | 0.642 | 0.687|\n",
    "|               | Accuracy    | 0.578 | 0.654|\n",
    "|               | Precision   | 0.812 | 0.496|\n",
    "|               | F1-Score    | 0.660 | 0.539|"
   ]
  },
  {
   "cell_type": "code",
   "execution_count": 44,
   "id": "19e74401-8fe9-4d0e-9a35-926435974ca3",
   "metadata": {
    "tags": []
   },
   "outputs": [],
   "source": [
    "part_process_df = partial_process(df)"
   ]
  },
  {
   "cell_type": "code",
   "execution_count": 45,
   "id": "21327399-1b66-4fa9-baea-346e8841105d",
   "metadata": {
    "tags": []
   },
   "outputs": [
    {
     "data": {
      "image/png": "[encoded data removed]",
      "text/plain": [
       "<Figure size 400x300 with 1 Axes>"
      ]
     },
     "metadata": {},
     "output_type": "display_data"
    }
   ],
   "source": [
    "# Getting sense of how fib-4 is distributed\n",
    "x, y = ecdf(part_process_df['FIB-4'])\n",
    "plt.figure(figsize=(4,3))\n",
    "plt.plot(x,y,marker='.', linestyle='none')\n",
    "plt.xlabel('FIB-4')\n",
    "plt.ylabel('ecdf')\n",
    "plt.xlim([-1,2.5]);"
   ]
  },
  {
   "cell_type": "markdown",
   "id": "a56f0b33-e38d-4709-91fb-c933a3081ed8",
   "metadata": {
    "jp-MarkdownHeadingCollapsed": true,
    "tags": []
   },
   "source": [
    "#### Predicting Advanced Fibrosis<a id='predicing_advanced_fibrosis_fib-4'></a>"
   ]
  },
  {
   "cell_type": "code",
   "execution_count": 81,
   "id": "8a077c0b-3724-43f7-b490-c76d2bb07866",
   "metadata": {
    "tags": []
   },
   "outputs": [
    {
     "name": "stdout",
     "output_type": "stream",
     "text": [
      "AUC: 0.624\n"
     ]
    },
    {
     "data": {
      "image/png": "[encoded data removed]",
      "text/plain": [
       "<Figure size 400x300 with 1 Axes>"
      ]
     },
     "metadata": {},
     "output_type": "display_data"
    }
   ],
   "source": [
    "# for differentiating between advanced fibrosis (F3/F4) and non-advanced fibrosis (F1/F2)\n",
    "with warnings.catch_warnings():\n",
    "    warnings.simplefilter('ignore')\n",
    "    fib4_df = preprocess_df[['FIB-4']]\n",
    "    fib4_df['Stage'] = preprocess_df.Stage.str.replace('3|4','3/4',regex=True)\n",
    "    fib4_vals = np.linspace(-2,4,301)\n",
    "    scores = np.empty([301,5])\n",
    "    true = fib4_df['Stage'].values\n",
    "    for ind, cutoff in enumerate(fib4_vals):\n",
    "        pred = np.array(['1/2' if val < cutoff else '3/4' for val in fib4_df['FIB-4'].values], dtype='object')\n",
    "        scores[ind] = calc_class_scores(true, pred)\n",
    "\n",
    "# note: because the positive case is non-cirrhotic, sensitivity and specificity are reversed\n",
    "plt.figure(figsize=(4,3))\n",
    "plt.plot(100-100*scores[:,1], 100*scores[:,0], marker='.', linestyle='none')\n",
    "plt.xlabel('100% - Specificity%')\n",
    "plt.ylabel('Sensitivity%')\n",
    "print('AUC: {:.3f}'.format(np.trapz(scores[:,0], x=scores[:,1]-1)));"
   ]
  },
  {
   "cell_type": "code",
   "execution_count": 82,
   "id": "bf0de43f-0921-4fcb-9816-bc1610a30135",
   "metadata": {
    "tags": []
   },
   "outputs": [
    {
     "name": "stdout",
     "output_type": "stream",
     "text": [
      "FIB-4 cut-off: -0.240\n",
      "sensitivity (predict advanced): 0.556\n",
      "specificity (predict non-advanced): 0.642\n",
      "accuracy: 0.578\n",
      "precision: 0.812\n",
      "f1-score: 0.660\n"
     ]
    }
   ],
   "source": [
    "# finding the cut-off which corresponds to maximizing the sum of sensitivity, specificity, and accuracy\n",
    "max_ind, max_val = (0, 0)\n",
    "for ind, val in enumerate(scores[:,0]*scores[:,1]):\n",
    "    if val > max_val:\n",
    "        max_val = val\n",
    "        max_ind = ind\n",
    "print('FIB-4 cut-off: {:.3f}'.format(fib4_vals[max_ind]))\n",
    "print('sensitivity (predict advanced): {:.3f}'.format(scores[max_ind,0]))\n",
    "print('specificity (predict non-advanced): {:.3f}'.format(scores[max_ind,1]))\n",
    "print('accuracy: {:.3f}'.format(scores[max_ind,4]))\n",
    "print('precision: {:.3f}'.format(scores[max_ind,2]))\n",
    "print('f1-score: {:.3f}'.format(scores[max_ind,3]))"
   ]
  },
  {
   "cell_type": "markdown",
   "id": "32c65dcf-dbd9-482c-9077-856212885ee4",
   "metadata": {
    "jp-MarkdownHeadingCollapsed": true,
    "tags": []
   },
   "source": [
    "#### Predicting Cirrhosis<a id='predicting_cirrhosis_fib-3'></a>"
   ]
  },
  {
   "cell_type": "code",
   "execution_count": 83,
   "id": "c47c8347-d64e-4c01-b413-beddf08e06f7",
   "metadata": {
    "tags": []
   },
   "outputs": [
    {
     "name": "stdout",
     "output_type": "stream",
     "text": [
      "AUC: 0.659\n"
     ]
    },
    {
     "data": {
      "image/png": "[encoded data removed]",
      "text/plain": [
       "<Figure size 400x300 with 1 Axes>"
      ]
     },
     "metadata": {},
     "output_type": "display_data"
    }
   ],
   "source": [
    "# for differentiating between advanced fibrosis (F3/F4) and non-advanced fibrosis (F1/F2)\n",
    "with warnings.catch_warnings():\n",
    "    warnings.simplefilter('ignore')\n",
    "    fib4_df = preprocess_df[['FIB-4']]\n",
    "    fib4_df['Stage'] = preprocess_df.Stage.str.replace('1/2|3','1/2/3',regex=True)\n",
    "    fib4_vals = np.linspace(-2,4,301)\n",
    "    scores = np.empty([301,5])\n",
    "    true = fib4_df['Stage'].values\n",
    "    for ind, cutoff in enumerate(fib4_vals):\n",
    "        pred = np.array(['1/2/3' if val < cutoff else '4' for val in fib4_df['FIB-4'].values], dtype='object')\n",
    "        scores[ind] = calc_class_scores(true, pred)\n",
    "\n",
    "# note: because the positive case is non-cirrhotic, sensitivity and specificity are reversed\n",
    "plt.figure(figsize=(4,3))\n",
    "plt.plot(100-100*scores[:,1], 100*scores[:,0], marker='.', linestyle='none')\n",
    "plt.xlabel('100% - Specificity%')\n",
    "plt.ylabel('Sensitivity%')\n",
    "print('AUC: {:.3f}'.format(np.trapz(scores[:,0], x=scores[:,1]-1)));"
   ]
  },
  {
   "cell_type": "code",
   "execution_count": 84,
   "id": "80aec860-ff16-41d8-ad05-c7afaa34a4b9",
   "metadata": {
    "tags": []
   },
   "outputs": [
    {
     "name": "stdout",
     "output_type": "stream",
     "text": [
      "FIB-4 cut-off: -0.160\n",
      "sensitivity (predict cirrhosis): 0.590\n",
      "specificity (predict non-cirrhosis): 0.687\n",
      "accuracy: 0.654\n",
      "precision: 0.496\n",
      "f1-score: 0.539\n"
     ]
    }
   ],
   "source": [
    "# finding the cut-off which corresponds to maximizing the sum of sensitivity, specificity, and accuracy\n",
    "max_ind, max_val = (0, 0)\n",
    "for ind, val in enumerate(scores[:,0]*scores[:,1]):\n",
    "    if val > max_val:\n",
    "        max_val = val\n",
    "        max_ind = ind\n",
    "print('FIB-4 cut-off: {:.3f}'.format(fib4_vals[max_ind]))\n",
    "print('sensitivity (predict cirrhosis): {:.3f}'.format(scores[max_ind,0]))\n",
    "print('specificity (predict non-cirrhosis): {:.3f}'.format(scores[max_ind,1]))\n",
    "print('accuracy: {:.3f}'.format(scores[max_ind,4]))\n",
    "print('precision: {:.3f}'.format(scores[max_ind,2]))\n",
    "print('f1-score: {:.3f}'.format(scores[max_ind,3]))"
   ]
  },
  {
   "cell_type": "markdown",
   "id": "d488706b-b04a-4c7c-9840-b514ca38330b",
   "metadata": {
    "jp-MarkdownHeadingCollapsed": true,
    "tags": []
   },
   "source": [
    "## K-Nearest Neighbors<a id='k-nearest_neighbors'></a>\n",
    "The best parameters for k-NN are ```{'n_neighbors':30, 'weights':'uniform'}``` \\\n",
    "**Result:**\n",
    "|                |         | **sensitivity** | **specificity** | **precision** | **f1-score** | **accuracy** |**support** |\n",
    "|----------------|---------|-----------------|-----------------|---------------|--------------|--------------|------------|\n",
    "|**KNN Model**   | **1/2** | 0.511 | 0.725 | 0.478 | 0.482 | 0.717 | 16.48 |\n",
    "|                | **3**   | 0.487 | 0.619 | 0.488 | 0.482 | 0.590 | 24.32 |\n",
    "|                | **4**   | 0.593 | 0.747 | 0.647 | 0.609 | 0.746 | 21.20 |"
   ]
  },
  {
   "cell_type": "code",
   "execution_count": 12,
   "id": "343a61aa-bb7c-44e6-a72e-3da1c54ec9a3",
   "metadata": {
    "tags": []
   },
   "outputs": [],
   "source": [
    "from sklearn.neighbors import KNeighborsClassifier"
   ]
  },
  {
   "cell_type": "code",
   "execution_count": 13,
   "id": "b8ca0500-97a2-45e9-8eed-164e2c4fd4ff",
   "metadata": {
    "tags": []
   },
   "outputs": [],
   "source": [
    "X, Y = (preprocess_pca(df.drop(columns='Stage')), df['Stage'].values)\n",
    "x_train, x_test, y_train, y_test = train_test_split(X, Y, test_size=0.2)"
   ]
  },
  {
   "cell_type": "code",
   "execution_count": 53,
   "id": "d1f92281-8cb0-4645-90f5-873cb829ac6a",
   "metadata": {
    "tags": []
   },
   "outputs": [],
   "source": [
    "knn_class = KNeighborsClassifier()\n",
    "grid_params = {'n_neighbors':[25, 30, 35, 40],\n",
    "               'weights':['uniform']}\n",
    "gridsearch_knn = GridSearchCV(knn_class, grid_params, scoring='f1_micro', return_train_score=True, cv=10)"
   ]
  },
  {
   "cell_type": "code",
   "execution_count": 54,
   "id": "dc050250-4203-4db0-b3fa-23866edaa703",
   "metadata": {
    "tags": []
   },
   "outputs": [
    {
     "name": "stdout",
     "output_type": "stream",
     "text": [
      "KNeighborsClassifier(n_neighbors=30)\n",
      "0.5548387096774194\n"
     ]
    }
   ],
   "source": [
    "gridsearch_knn.fit(X, Y)\n",
    "print(gridsearch_knn.best_estimator_)\n",
    "print(gridsearch_knn.best_score_)"
   ]
  },
  {
   "cell_type": "code",
   "execution_count": 55,
   "id": "0acd4ac8-a58d-4bd1-a64b-091835c663ed",
   "metadata": {
    "tags": []
   },
   "outputs": [
    {
     "data": {
      "image/png": "[encoded data removed]",
      "text/plain": [
       "<Figure size 800x300 with 2 Axes>"
      ]
     },
     "metadata": {},
     "output_type": "display_data"
    }
   ],
   "source": [
    "plot_train_test(gridsearch_knn.cv_results_)"
   ]
  },
  {
   "cell_type": "code",
   "execution_count": 56,
   "id": "51626e88-5e1f-4f6e-b8be-491cbeb4b5d4",
   "metadata": {
    "tags": []
   },
   "outputs": [
    {
     "data": {
      "text/plain": [
       "[({'n_neighbors': 25, 'weights': 'uniform'}, 0.5478494623655914),\n",
       " ({'n_neighbors': 30, 'weights': 'uniform'}, 0.5548387096774194),\n",
       " ({'n_neighbors': 35, 'weights': 'uniform'}, 0.5418279569892472),\n",
       " ({'n_neighbors': 40, 'weights': 'uniform'}, 0.5381720430107526)]"
      ]
     },
     "execution_count": 56,
     "metadata": {},
     "output_type": "execute_result"
    }
   ],
   "source": [
    "list(zip(gridsearch_knn.cv_results_['params'], gridsearch_knn.cv_results_['mean_test_score']))"
   ]
  },
  {
   "cell_type": "markdown",
   "id": "84bf2859-e1ef-4110-b59b-683a9ad39a68",
   "metadata": {},
   "source": [
    "```n_neighbors=30, weights='uniform'``` strikes the best balance between bias and variance"
   ]
  },
  {
   "cell_type": "code",
   "execution_count": 57,
   "id": "9b6ef8fd-82e0-4fc7-9551-44c1b01d397f",
   "metadata": {
    "tags": []
   },
   "outputs": [
    {
     "data": {
      "text/html": [
       "<div>\n",
       "<style scoped>\n",
       "    .dataframe tbody tr th:only-of-type {\n",
       "        vertical-align: middle;\n",
       "    }\n",
       "\n",
       "    .dataframe tbody tr th {\n",
       "        vertical-align: top;\n",
       "    }\n",
       "\n",
       "    .dataframe thead th {\n",
       "        text-align: right;\n",
       "    }\n",
       "</style>\n",
       "<table border=\"1\" class=\"dataframe\">\n",
       "  <thead>\n",
       "    <tr style=\"text-align: right;\">\n",
       "      <th></th>\n",
       "      <th></th>\n",
       "      <th>recall</th>\n",
       "      <th>specificity</th>\n",
       "      <th>precision</th>\n",
       "      <th>f1-score</th>\n",
       "      <th>accuracy</th>\n",
       "      <th>support</th>\n",
       "    </tr>\n",
       "  </thead>\n",
       "  <tbody>\n",
       "    <tr>\n",
       "      <th rowspan=\"2\" valign=\"top\">1/2</th>\n",
       "      <th>mean</th>\n",
       "      <td>0.511</td>\n",
       "      <td>0.725</td>\n",
       "      <td>0.478</td>\n",
       "      <td>0.482</td>\n",
       "      <td>0.717</td>\n",
       "      <td>16.478</td>\n",
       "    </tr>\n",
       "    <tr>\n",
       "      <th>95.0% CI</th>\n",
       "      <td>[0.278, 0.769]</td>\n",
       "      <td>[0.56, 0.88]</td>\n",
       "      <td>[0.273, 0.7]</td>\n",
       "      <td>[0.303, 0.647]</td>\n",
       "      <td>[0.613, 0.806]</td>\n",
       "      <td>[10.0, 23.0]</td>\n",
       "    </tr>\n",
       "    <tr>\n",
       "      <th rowspan=\"2\" valign=\"top\">3</th>\n",
       "      <th>mean</th>\n",
       "      <td>0.497</td>\n",
       "      <td>0.619</td>\n",
       "      <td>0.488</td>\n",
       "      <td>0.482</td>\n",
       "      <td>0.59</td>\n",
       "      <td>24.325</td>\n",
       "    </tr>\n",
       "    <tr>\n",
       "      <th>95.0% CI</th>\n",
       "      <td>[0.296, 0.714]</td>\n",
       "      <td>[0.421, 0.812]</td>\n",
       "      <td>[0.3, 0.7]</td>\n",
       "      <td>[0.327, 0.625]</td>\n",
       "      <td>[0.468, 0.71]</td>\n",
       "      <td>[18.0, 31.0]</td>\n",
       "    </tr>\n",
       "    <tr>\n",
       "      <th rowspan=\"2\" valign=\"top\">4</th>\n",
       "      <th>mean</th>\n",
       "      <td>0.593</td>\n",
       "      <td>0.747</td>\n",
       "      <td>0.647</td>\n",
       "      <td>0.609</td>\n",
       "      <td>0.746</td>\n",
       "      <td>21.197</td>\n",
       "    </tr>\n",
       "    <tr>\n",
       "      <th>95.0% CI</th>\n",
       "      <td>[0.36, 0.826]</td>\n",
       "      <td>[0.571, 0.913]</td>\n",
       "      <td>[0.429, 0.857]</td>\n",
       "      <td>[0.429, 0.762]</td>\n",
       "      <td>[0.645, 0.839]</td>\n",
       "      <td>[15.0, 28.0]</td>\n",
       "    </tr>\n",
       "  </tbody>\n",
       "</table>\n",
       "</div>"
      ],
      "text/plain": [
       "                      recall     specificity       precision        f1-score  \\\n",
       "1/2 mean               0.511           0.725           0.478           0.482   \n",
       "    95.0% CI  [0.278, 0.769]    [0.56, 0.88]    [0.273, 0.7]  [0.303, 0.647]   \n",
       "3   mean               0.497           0.619           0.488           0.482   \n",
       "    95.0% CI  [0.296, 0.714]  [0.421, 0.812]      [0.3, 0.7]  [0.327, 0.625]   \n",
       "4   mean               0.593           0.747           0.647           0.609   \n",
       "    95.0% CI   [0.36, 0.826]  [0.571, 0.913]  [0.429, 0.857]  [0.429, 0.762]   \n",
       "\n",
       "                    accuracy       support  \n",
       "1/2 mean               0.717        16.478  \n",
       "    95.0% CI  [0.613, 0.806]  [10.0, 23.0]  \n",
       "3   mean                0.59        24.325  \n",
       "    95.0% CI   [0.468, 0.71]  [18.0, 31.0]  \n",
       "4   mean               0.746        21.197  \n",
       "    95.0% CI  [0.645, 0.839]  [15.0, 28.0]  "
      ]
     },
     "execution_count": 57,
     "metadata": {},
     "output_type": "execute_result"
    }
   ],
   "source": [
    "with warnings.catch_warnings():\n",
    "    warnings.simplefilter('ignore')\n",
    "    bs_knn_results = bs_model(X, Y, KNeighborsClassifier(n_neighbors=30, weights='uniform'), m=10000)\n",
    "bs_knn_results"
   ]
  },
  {
   "cell_type": "markdown",
   "id": "c82fc2ad-1fc8-41e8-b189-de5ddfb8b254",
   "metadata": {
    "jp-MarkdownHeadingCollapsed": true,
    "tags": []
   },
   "source": [
    "## Random Forest<a id='random_forest'></a>\n",
    "Best params are ```{max_depth=5, n_estimators=175}``` \\\n",
    "**Result:**\n",
    "|               |         | **sensitivity** | **specificity** | **precision** | **f1-score** | **accuracy** |**support** |\n",
    "|---------------|---------|-----------------|-----------------|---------------|--------------|--------------|------------|\n",
    "|**RF Model**   | **1/2** | 0.322 | 0.862 | 0.535 | 0.386 | 0.742 | 16.41 |\n",
    "|               | **3**   | 0.605 | 0.578 | 0.505 | 0.543 | 0.607 | 24.33 |\n",
    "|               | **4**   | 0.688 | 0.706 | 0.641 | 0.656 | 0.757 | 21.26 |"
   ]
  },
  {
   "cell_type": "code",
   "execution_count": 224,
   "id": "27a7c1f5-7511-4440-93b9-3c7c9d990661",
   "metadata": {
    "tags": []
   },
   "outputs": [],
   "source": [
    "from sklearn.ensemble import RandomForestClassifier"
   ]
  },
  {
   "cell_type": "code",
   "execution_count": 225,
   "id": "e8ecf581-7708-443b-92d1-3451ad59b686",
   "metadata": {
    "tags": []
   },
   "outputs": [],
   "source": [
    "X, Y = (preprocess_pca(df.drop(columns='Stage')), df['Stage'].values)\n",
    "x_train, x_test, y_train, y_test = train_test_split(X, Y, test_size=0.2)"
   ]
  },
  {
   "cell_type": "code",
   "execution_count": 262,
   "id": "d6c9fbff-5568-4a7d-b77d-d4a68583c8d1",
   "metadata": {
    "tags": []
   },
   "outputs": [],
   "source": [
    "rf_class = RandomForestClassifier()\n",
    "grid_params = {'n_estimators':[100, 125, 150, 175, 200], \n",
    "               'criterion':['gini'],\n",
    "               'max_depth':[5]}\n",
    "gridsearch_rf = GridSearchCV(rf_class, grid_params, scoring='f1_micro', return_train_score=True, cv=5)"
   ]
  },
  {
   "cell_type": "code",
   "execution_count": 263,
   "id": "aa5cda3d-2ae7-4770-8965-efc375188d16",
   "metadata": {
    "tags": []
   },
   "outputs": [
    {
     "name": "stdout",
     "output_type": "stream",
     "text": [
      "RandomForestClassifier(max_depth=5, n_estimators=175)\n",
      "0.5818027210884353\n"
     ]
    }
   ],
   "source": [
    "gridsearch_rf.fit(x_train, y_train)\n",
    "print(gridsearch_rf.best_estimator_)\n",
    "print(gridsearch_rf.best_score_)"
   ]
  },
  {
   "cell_type": "code",
   "execution_count": 264,
   "id": "8a116e08-aef3-4f9a-80ea-7808dec72634",
   "metadata": {
    "tags": []
   },
   "outputs": [
    {
     "data": {
      "image/png": "[encoded data removed]",
      "text/plain": [
       "<Figure size 800x300 with 2 Axes>"
      ]
     },
     "metadata": {},
     "output_type": "display_data"
    }
   ],
   "source": [
    "plot_train_test(gridsearch_rf.cv_results_)"
   ]
  },
  {
   "cell_type": "code",
   "execution_count": 265,
   "id": "2982d145-c423-4ac0-9404-3fbb400d5100",
   "metadata": {
    "tags": []
   },
   "outputs": [
    {
     "data": {
      "text/plain": [
       "[({'criterion': 'gini', 'max_depth': 5, 'n_estimators': 100},\n",
       "  0.5693877551020409),\n",
       " ({'criterion': 'gini', 'max_depth': 5, 'n_estimators': 125},\n",
       "  0.5530612244897959),\n",
       " ({'criterion': 'gini', 'max_depth': 5, 'n_estimators': 150},\n",
       "  0.5652210884353741),\n",
       " ({'criterion': 'gini', 'max_depth': 5, 'n_estimators': 175},\n",
       "  0.5818027210884353),\n",
       " ({'criterion': 'gini', 'max_depth': 5, 'n_estimators': 200},\n",
       "  0.5613095238095238)]"
      ]
     },
     "execution_count": 265,
     "metadata": {},
     "output_type": "execute_result"
    }
   ],
   "source": [
    "list(zip(gridsearch_rf.cv_results_['params'], gridsearch_rf.cv_results_['mean_test_score']))"
   ]
  },
  {
   "cell_type": "code",
   "execution_count": 266,
   "id": "86c0bb31-ad9d-403a-9dbf-c2443e8c0b23",
   "metadata": {
    "tags": []
   },
   "outputs": [
    {
     "data": {
      "text/html": [
       "<div>\n",
       "<style scoped>\n",
       "    .dataframe tbody tr th:only-of-type {\n",
       "        vertical-align: middle;\n",
       "    }\n",
       "\n",
       "    .dataframe tbody tr th {\n",
       "        vertical-align: top;\n",
       "    }\n",
       "\n",
       "    .dataframe thead th {\n",
       "        text-align: right;\n",
       "    }\n",
       "</style>\n",
       "<table border=\"1\" class=\"dataframe\">\n",
       "  <thead>\n",
       "    <tr style=\"text-align: right;\">\n",
       "      <th></th>\n",
       "      <th></th>\n",
       "      <th>recall</th>\n",
       "      <th>specificity</th>\n",
       "      <th>precision</th>\n",
       "      <th>f1-score</th>\n",
       "      <th>accuracy</th>\n",
       "      <th>support</th>\n",
       "    </tr>\n",
       "  </thead>\n",
       "  <tbody>\n",
       "    <tr>\n",
       "      <th rowspan=\"2\" valign=\"top\">1/2</th>\n",
       "      <th>mean</th>\n",
       "      <td>0.322</td>\n",
       "      <td>0.862</td>\n",
       "      <td>0.535</td>\n",
       "      <td>0.386</td>\n",
       "      <td>0.742</td>\n",
       "      <td>16.407</td>\n",
       "    </tr>\n",
       "    <tr>\n",
       "      <th>95.0% CI</th>\n",
       "      <td>[0.111, 0.583]</td>\n",
       "      <td>[0.73, 0.971]</td>\n",
       "      <td>[0.25, 0.857]</td>\n",
       "      <td>[0.167, 0.588]</td>\n",
       "      <td>[0.645, 0.839]</td>\n",
       "      <td>[10.0, 22.0]</td>\n",
       "    </tr>\n",
       "    <tr>\n",
       "      <th rowspan=\"2\" valign=\"top\">3</th>\n",
       "      <th>mean</th>\n",
       "      <td>0.605</td>\n",
       "      <td>0.578</td>\n",
       "      <td>0.505</td>\n",
       "      <td>0.543</td>\n",
       "      <td>0.607</td>\n",
       "      <td>24.331</td>\n",
       "    </tr>\n",
       "    <tr>\n",
       "      <th>95.0% CI</th>\n",
       "      <td>[0.409, 0.8]</td>\n",
       "      <td>[0.4, 0.765]</td>\n",
       "      <td>[0.333, 0.7]</td>\n",
       "      <td>[0.393, 0.677]</td>\n",
       "      <td>[0.5, 0.71]</td>\n",
       "      <td>[18.0, 31.0]</td>\n",
       "    </tr>\n",
       "    <tr>\n",
       "      <th rowspan=\"2\" valign=\"top\">4</th>\n",
       "      <th>mean</th>\n",
       "      <td>0.688</td>\n",
       "      <td>0.706</td>\n",
       "      <td>0.641</td>\n",
       "      <td>0.656</td>\n",
       "      <td>0.757</td>\n",
       "      <td>21.262</td>\n",
       "    </tr>\n",
       "    <tr>\n",
       "      <th>95.0% CI</th>\n",
       "      <td>[0.478, 0.889]</td>\n",
       "      <td>[0.533, 0.875]</td>\n",
       "      <td>[0.45, 0.833]</td>\n",
       "      <td>[0.5, 0.789]</td>\n",
       "      <td>[0.661, 0.855]</td>\n",
       "      <td>[15.0, 28.0]</td>\n",
       "    </tr>\n",
       "  </tbody>\n",
       "</table>\n",
       "</div>"
      ],
      "text/plain": [
       "                      recall     specificity      precision        f1-score  \\\n",
       "1/2 mean               0.322           0.862          0.535           0.386   \n",
       "    95.0% CI  [0.111, 0.583]   [0.73, 0.971]  [0.25, 0.857]  [0.167, 0.588]   \n",
       "3   mean               0.605           0.578          0.505           0.543   \n",
       "    95.0% CI    [0.409, 0.8]    [0.4, 0.765]   [0.333, 0.7]  [0.393, 0.677]   \n",
       "4   mean               0.688           0.706          0.641           0.656   \n",
       "    95.0% CI  [0.478, 0.889]  [0.533, 0.875]  [0.45, 0.833]    [0.5, 0.789]   \n",
       "\n",
       "                    accuracy       support  \n",
       "1/2 mean               0.742        16.407  \n",
       "    95.0% CI  [0.645, 0.839]  [10.0, 22.0]  \n",
       "3   mean               0.607        24.331  \n",
       "    95.0% CI     [0.5, 0.71]  [18.0, 31.0]  \n",
       "4   mean               0.757        21.262  \n",
       "    95.0% CI  [0.661, 0.855]  [15.0, 28.0]  "
      ]
     },
     "execution_count": 266,
     "metadata": {},
     "output_type": "execute_result"
    }
   ],
   "source": [
    "with warnings.catch_warnings():\n",
    "    warnings.simplefilter('ignore')\n",
    "    bs_rf_results = bs_model(X, Y, RandomForestClassifier(max_depth=5, n_estimators=175), m=10000)\n",
    "bs_rf_results"
   ]
  },
  {
   "cell_type": "markdown",
   "id": "9b8e2437-cfa0-433b-8755-94cb3c1e0d9c",
   "metadata": {},
   "source": [
    "**Result:**\n",
    "|               |         | **sensitivity** | **specificity** | **precision** | **f1-score** | **accuracy** |**support** |\n",
    "|---------------|---------|-----------------|-----------------|---------------|--------------|--------------|------------|\n",
    "|**RF Model**   | **1/2** | 0.322 | 0.862 | 0.535 | 0.386 | 0.742 | 16.41 |\n",
    "|               | **3**   | 0.605 | 0.578 | 0.505 | 0.543 | 0.607 | 24.33 |\n",
    "|               | **4**   | 0.688 | 0.706 | 0.641 | 0.656 | 0.757 | 21.26 |"
   ]
  },
  {
   "cell_type": "code",
   "execution_count": 267,
   "id": "67a4ed17-4753-4c51-8e8b-b66b18ac5c8f",
   "metadata": {
    "tags": []
   },
   "outputs": [],
   "source": [
    "from sklearn.metrics import confusion_matrix"
   ]
  },
  {
   "cell_type": "code",
   "execution_count": 268,
   "id": "f2f075ed-6953-4a8b-b789-22de80cc1ed1",
   "metadata": {
    "tags": []
   },
   "outputs": [
    {
     "data": {
      "text/html": [
       "<div>\n",
       "<style scoped>\n",
       "    .dataframe tbody tr th:only-of-type {\n",
       "        vertical-align: middle;\n",
       "    }\n",
       "\n",
       "    .dataframe tbody tr th {\n",
       "        vertical-align: top;\n",
       "    }\n",
       "\n",
       "    .dataframe thead th {\n",
       "        text-align: right;\n",
       "    }\n",
       "</style>\n",
       "<table border=\"1\" class=\"dataframe\">\n",
       "  <thead>\n",
       "    <tr style=\"text-align: right;\">\n",
       "      <th></th>\n",
       "      <th>1/2</th>\n",
       "      <th>3</th>\n",
       "      <th>4</th>\n",
       "    </tr>\n",
       "  </thead>\n",
       "  <tbody>\n",
       "    <tr>\n",
       "      <th>1/2</th>\n",
       "      <td>3</td>\n",
       "      <td>8</td>\n",
       "      <td>1</td>\n",
       "    </tr>\n",
       "    <tr>\n",
       "      <th>3</th>\n",
       "      <td>3</td>\n",
       "      <td>15</td>\n",
       "      <td>9</td>\n",
       "    </tr>\n",
       "    <tr>\n",
       "      <th>4</th>\n",
       "      <td>2</td>\n",
       "      <td>8</td>\n",
       "      <td>13</td>\n",
       "    </tr>\n",
       "  </tbody>\n",
       "</table>\n",
       "</div>"
      ],
      "text/plain": [
       "     1/2   3   4\n",
       "1/2    3   8   1\n",
       "3      3  15   9\n",
       "4      2   8  13"
      ]
     },
     "execution_count": 268,
     "metadata": {},
     "output_type": "execute_result"
    }
   ],
   "source": [
    "rf_model = RandomForestClassifier(max_depth=5, n_estimators=175).fit(x_train, y_train)\n",
    "y_pred = rf_model.predict(x_test)\n",
    "pd.DataFrame(confusion_matrix(y_test, y_pred), columns=['1/2', '3', '4'], index=['1/2', '3', '4'])"
   ]
  },
  {
   "cell_type": "markdown",
   "id": "723ee351-4808-40dd-99d8-be7c9af01eee",
   "metadata": {
    "jp-MarkdownHeadingCollapsed": true,
    "tags": []
   },
   "source": [
    "## Logistic Regression<a id='logistic_regression'></a>\n",
    "**Results:**\n",
    "|                |         | **sensitivity** | **specificity** | **precision** | **f1-score** | **accuracy** |**support** |\n",
    "|----------------|---------|-----------------|-----------------|---------------|--------------|--------------|------------|\n",
    "|**Log Model**   | **1/2** | 0.430 | 0.787 | 0.499 | 0.447 | 0.728 | 16.42 |\n",
    "|                | **3**   | 0.515 | 0.628 | 0.496 | 0.497 | 0.600 | 24.33 |\n",
    "|                | **4**   | 0.683 | 0.710 | 0.649 | 0.659 | 0.762 | 21.25 |"
   ]
  },
  {
   "cell_type": "code",
   "execution_count": 46,
   "id": "8231ebe4-cd5e-40e2-a929-5697647e7324",
   "metadata": {
    "tags": []
   },
   "outputs": [],
   "source": [
    "from sklearn.linear_model import LogisticRegression"
   ]
  },
  {
   "cell_type": "code",
   "execution_count": 24,
   "id": "27c94a87-e786-4f47-9a9c-bdb69ecaba8b",
   "metadata": {
    "tags": []
   },
   "outputs": [],
   "source": [
    "X, Y = (preprocess_df.drop(columns='Stage').values, df['Stage'].values)\n",
    "x_train, x_test, y_train, y_test = train_test_split(X, Y, test_size=0.2)"
   ]
  },
  {
   "cell_type": "code",
   "execution_count": 64,
   "id": "351b76df-0509-42d1-88ec-e5b6eecfeaf1",
   "metadata": {
    "tags": []
   },
   "outputs": [],
   "source": [
    "log_model = LogisticRegression()\n",
    "grid_params = {'C':[0.001, 0.003, 0.01, 0.03, 0.1, 0.3]}\n",
    "gridsearch_log = GridSearchCV(log_model, grid_params, return_train_score=True, scoring='f1_micro')"
   ]
  },
  {
   "cell_type": "code",
   "execution_count": 65,
   "id": "3b073eb3-4aec-422e-ac00-a1772673b1cf",
   "metadata": {
    "tags": []
   },
   "outputs": [
    {
     "name": "stdout",
     "output_type": "stream",
     "text": [
      "LogisticRegression(C=0.1)\n",
      "0.5619249074563722\n"
     ]
    }
   ],
   "source": [
    "gridsearch_log.fit(X, Y)\n",
    "print(gridsearch_log.best_estimator_)\n",
    "print(gridsearch_log.best_score_)"
   ]
  },
  {
   "cell_type": "code",
   "execution_count": 66,
   "id": "301258ff-f425-4829-8b82-3e542aa634c2",
   "metadata": {
    "tags": []
   },
   "outputs": [
    {
     "data": {
      "image/png": "[encoded data removed]",
      "text/plain": [
       "<Figure size 800x300 with 2 Axes>"
      ]
     },
     "metadata": {},
     "output_type": "display_data"
    }
   ],
   "source": [
    "plot_train_test(gridsearch_log.cv_results_)"
   ]
  },
  {
   "cell_type": "code",
   "execution_count": 67,
   "id": "c76adf81-02d4-46b1-aa91-a2f4d641c1cd",
   "metadata": {
    "tags": []
   },
   "outputs": [
    {
     "data": {
      "text/html": [
       "<div>\n",
       "<style scoped>\n",
       "    .dataframe tbody tr th:only-of-type {\n",
       "        vertical-align: middle;\n",
       "    }\n",
       "\n",
       "    .dataframe tbody tr th {\n",
       "        vertical-align: top;\n",
       "    }\n",
       "\n",
       "    .dataframe thead th {\n",
       "        text-align: right;\n",
       "    }\n",
       "</style>\n",
       "<table border=\"1\" class=\"dataframe\">\n",
       "  <thead>\n",
       "    <tr style=\"text-align: right;\">\n",
       "      <th></th>\n",
       "      <th></th>\n",
       "      <th>recall</th>\n",
       "      <th>specificity</th>\n",
       "      <th>precision</th>\n",
       "      <th>f1-score</th>\n",
       "      <th>accuracy</th>\n",
       "      <th>support</th>\n",
       "    </tr>\n",
       "  </thead>\n",
       "  <tbody>\n",
       "    <tr>\n",
       "      <th rowspan=\"2\" valign=\"top\">1/2</th>\n",
       "      <th>mean</th>\n",
       "      <td>0.43</td>\n",
       "      <td>0.787</td>\n",
       "      <td>0.499</td>\n",
       "      <td>0.447</td>\n",
       "      <td>0.728</td>\n",
       "      <td>16.422</td>\n",
       "    </tr>\n",
       "    <tr>\n",
       "      <th>95.0% CI</th>\n",
       "      <td>[0.2, 0.687]</td>\n",
       "      <td>[0.622, 0.937]</td>\n",
       "      <td>[0.263, 0.786]</td>\n",
       "      <td>[0.25, 0.625]</td>\n",
       "      <td>[0.629, 0.823]</td>\n",
       "      <td>[10.0, 23.0]</td>\n",
       "    </tr>\n",
       "    <tr>\n",
       "      <th rowspan=\"2\" valign=\"top\">3</th>\n",
       "      <th>mean</th>\n",
       "      <td>0.515</td>\n",
       "      <td>0.628</td>\n",
       "      <td>0.496</td>\n",
       "      <td>0.497</td>\n",
       "      <td>0.6</td>\n",
       "      <td>24.329</td>\n",
       "    </tr>\n",
       "    <tr>\n",
       "      <th>95.0% CI</th>\n",
       "      <td>[0.31, 0.737]</td>\n",
       "      <td>[0.447, 0.806]</td>\n",
       "      <td>[0.32, 0.692]</td>\n",
       "      <td>[0.341, 0.64]</td>\n",
       "      <td>[0.484, 0.71]</td>\n",
       "      <td>[18.0, 31.0]</td>\n",
       "    </tr>\n",
       "    <tr>\n",
       "      <th rowspan=\"2\" valign=\"top\">4</th>\n",
       "      <th>mean</th>\n",
       "      <td>0.683</td>\n",
       "      <td>0.71</td>\n",
       "      <td>0.649</td>\n",
       "      <td>0.659</td>\n",
       "      <td>0.762</td>\n",
       "      <td>21.248</td>\n",
       "    </tr>\n",
       "    <tr>\n",
       "      <th>95.0% CI</th>\n",
       "      <td>[0.478, 0.875]</td>\n",
       "      <td>[0.536, 0.879]</td>\n",
       "      <td>[0.455, 0.84]</td>\n",
       "      <td>[0.5, 0.792]</td>\n",
       "      <td>[0.661, 0.855]</td>\n",
       "      <td>[15.0, 28.0]</td>\n",
       "    </tr>\n",
       "  </tbody>\n",
       "</table>\n",
       "</div>"
      ],
      "text/plain": [
       "                      recall     specificity       precision       f1-score  \\\n",
       "1/2 mean                0.43           0.787           0.499          0.447   \n",
       "    95.0% CI    [0.2, 0.687]  [0.622, 0.937]  [0.263, 0.786]  [0.25, 0.625]   \n",
       "3   mean               0.515           0.628           0.496          0.497   \n",
       "    95.0% CI   [0.31, 0.737]  [0.447, 0.806]   [0.32, 0.692]  [0.341, 0.64]   \n",
       "4   mean               0.683            0.71           0.649          0.659   \n",
       "    95.0% CI  [0.478, 0.875]  [0.536, 0.879]   [0.455, 0.84]   [0.5, 0.792]   \n",
       "\n",
       "                    accuracy       support  \n",
       "1/2 mean               0.728        16.422  \n",
       "    95.0% CI  [0.629, 0.823]  [10.0, 23.0]  \n",
       "3   mean                 0.6        24.329  \n",
       "    95.0% CI   [0.484, 0.71]  [18.0, 31.0]  \n",
       "4   mean               0.762        21.248  \n",
       "    95.0% CI  [0.661, 0.855]  [15.0, 28.0]  "
      ]
     },
     "execution_count": 67,
     "metadata": {},
     "output_type": "execute_result"
    }
   ],
   "source": [
    "with warnings.catch_warnings():\n",
    "    warnings.simplefilter('ignore')\n",
    "    bs_log_results = bs_model(X, Y, LogisticRegression(C=0.1), m=10000)\n",
    "bs_log_results"
   ]
  },
  {
   "cell_type": "markdown",
   "id": "f8250939-1ea6-4d60-895a-f817d4d58e62",
   "metadata": {
    "jp-MarkdownHeadingCollapsed": true,
    "tags": []
   },
   "source": [
    "## Naive Bayes<a id='naive_bayes'></a>\n",
    "**Results:**\n",
    "|               |         | **sensitivity** | **specificity** | **precision** | **f1-score** | **accuracy** |**support** |\n",
    "|---------------|---------|-----------------|-----------------|---------------|--------------|--------------|------------|\n",
    "|**NB Model**   | **1/2** | 0.482 | 0.724 | 0.500 | 0.440 | 0.709 | 16.41 |\n",
    "|               | **3**   | 0.656 | 0.401 | 0.428 | 0.502 | 0.513 | 24.28 |\n",
    "|               | **4**   | 0.291 | 0.919 | 0.752 | 0.408 | 0.722 | 21.32 |"
   ]
  },
  {
   "cell_type": "code",
   "execution_count": 68,
   "id": "e8b8b183-50c2-4c86-9c84-27525c1d548e",
   "metadata": {
    "tags": []
   },
   "outputs": [],
   "source": [
    "from sklearn.naive_bayes import GaussianNB"
   ]
  },
  {
   "cell_type": "code",
   "execution_count": 69,
   "id": "148eae24-d5dc-41b9-8700-6306935a9d9b",
   "metadata": {
    "tags": []
   },
   "outputs": [],
   "source": [
    "X, Y = (preprocess_df.drop(columns='Stage').values, preprocess_df['Stage'].values)\n",
    "x_train, x_test, y_train, y_test = train_test_split(X, Y, test_size=0.2)"
   ]
  },
  {
   "cell_type": "code",
   "execution_count": 98,
   "id": "161b3200-9ae9-4eac-abc3-53f9fcbb12a8",
   "metadata": {
    "tags": []
   },
   "outputs": [],
   "source": [
    "nb_model = GaussianNB()\n",
    "grid_params = {'var_smoothing':[100, 30, 10, 8, 7, 6, 5, 4, 3, 2, 1, 1e-9]}\n",
    "gridsearch_nb = GridSearchCV(nb_model, grid_params, scoring='f1_micro', return_train_score=True, cv=10)"
   ]
  },
  {
   "cell_type": "code",
   "execution_count": 99,
   "id": "6346a60b-e930-4bc5-8486-c989c6985c8d",
   "metadata": {
    "tags": []
   },
   "outputs": [
    {
     "name": "stdout",
     "output_type": "stream",
     "text": [
      "GaussianNB(var_smoothing=6)\n",
      "0.5328333333333333\n"
     ]
    }
   ],
   "source": [
    "gridsearch_nb.fit(x_train, y_train)\n",
    "print(gridsearch_nb.best_estimator_)\n",
    "print(gridsearch_nb.best_score_)"
   ]
  },
  {
   "cell_type": "code",
   "execution_count": 100,
   "id": "ce6eb8c4-9c07-4bcf-8803-b89fcec8985e",
   "metadata": {
    "tags": []
   },
   "outputs": [
    {
     "data": {
      "image/png": "[encoded data removed]",
      "text/plain": [
       "<Figure size 800x300 with 2 Axes>"
      ]
     },
     "metadata": {},
     "output_type": "display_data"
    }
   ],
   "source": [
    "plot_train_test(gridsearch_nb.cv_results_)"
   ]
  },
  {
   "cell_type": "code",
   "execution_count": 102,
   "id": "e7c726ea-7008-4a69-a28b-973737507dd5",
   "metadata": {
    "tags": []
   },
   "outputs": [
    {
     "data": {
      "text/html": [
       "<div>\n",
       "<style scoped>\n",
       "    .dataframe tbody tr th:only-of-type {\n",
       "        vertical-align: middle;\n",
       "    }\n",
       "\n",
       "    .dataframe tbody tr th {\n",
       "        vertical-align: top;\n",
       "    }\n",
       "\n",
       "    .dataframe thead th {\n",
       "        text-align: right;\n",
       "    }\n",
       "</style>\n",
       "<table border=\"1\" class=\"dataframe\">\n",
       "  <thead>\n",
       "    <tr style=\"text-align: right;\">\n",
       "      <th></th>\n",
       "      <th></th>\n",
       "      <th>recall</th>\n",
       "      <th>specificity</th>\n",
       "      <th>precision</th>\n",
       "      <th>f1-score</th>\n",
       "      <th>accuracy</th>\n",
       "      <th>support</th>\n",
       "    </tr>\n",
       "  </thead>\n",
       "  <tbody>\n",
       "    <tr>\n",
       "      <th rowspan=\"2\" valign=\"top\">1/2</th>\n",
       "      <th>mean</th>\n",
       "      <td>0.482</td>\n",
       "      <td>0.724</td>\n",
       "      <td>0.5</td>\n",
       "      <td>0.44</td>\n",
       "      <td>0.709</td>\n",
       "      <td>16.405</td>\n",
       "    </tr>\n",
       "    <tr>\n",
       "      <th>95.0% CI</th>\n",
       "      <td>[0.0, 0.846]</td>\n",
       "      <td>[0.353, 1.0]</td>\n",
       "      <td>[0.0, 1.0]</td>\n",
       "      <td>[0.0, 0.649]</td>\n",
       "      <td>[0.532, 0.839]</td>\n",
       "      <td>[10.0, 23.0]</td>\n",
       "    </tr>\n",
       "    <tr>\n",
       "      <th rowspan=\"2\" valign=\"top\">3</th>\n",
       "      <th>mean</th>\n",
       "      <td>0.656</td>\n",
       "      <td>0.401</td>\n",
       "      <td>0.428</td>\n",
       "      <td>0.502</td>\n",
       "      <td>0.513</td>\n",
       "      <td>24.276</td>\n",
       "    </tr>\n",
       "    <tr>\n",
       "      <th>95.0% CI</th>\n",
       "      <td>[0.261, 0.952]</td>\n",
       "      <td>[0.125, 0.687]</td>\n",
       "      <td>[0.279, 0.6]</td>\n",
       "      <td>[0.3, 0.646]</td>\n",
       "      <td>[0.371, 0.645]</td>\n",
       "      <td>[18.0, 31.0]</td>\n",
       "    </tr>\n",
       "    <tr>\n",
       "      <th rowspan=\"2\" valign=\"top\">4</th>\n",
       "      <th>mean</th>\n",
       "      <td>0.291</td>\n",
       "      <td>0.919</td>\n",
       "      <td>0.752</td>\n",
       "      <td>0.408</td>\n",
       "      <td>0.722</td>\n",
       "      <td>21.319</td>\n",
       "    </tr>\n",
       "    <tr>\n",
       "      <th>95.0% CI</th>\n",
       "      <td>[0.1, 0.529]</td>\n",
       "      <td>[0.8, 1.0]</td>\n",
       "      <td>[0.429, 1.0]</td>\n",
       "      <td>[0.167, 0.645]</td>\n",
       "      <td>[0.613, 0.823]</td>\n",
       "      <td>[15.0, 28.0]</td>\n",
       "    </tr>\n",
       "  </tbody>\n",
       "</table>\n",
       "</div>"
      ],
      "text/plain": [
       "                      recall     specificity     precision        f1-score  \\\n",
       "1/2 mean               0.482           0.724           0.5            0.44   \n",
       "    95.0% CI    [0.0, 0.846]    [0.353, 1.0]    [0.0, 1.0]    [0.0, 0.649]   \n",
       "3   mean               0.656           0.401         0.428           0.502   \n",
       "    95.0% CI  [0.261, 0.952]  [0.125, 0.687]  [0.279, 0.6]    [0.3, 0.646]   \n",
       "4   mean               0.291           0.919         0.752           0.408   \n",
       "    95.0% CI    [0.1, 0.529]      [0.8, 1.0]  [0.429, 1.0]  [0.167, 0.645]   \n",
       "\n",
       "                    accuracy       support  \n",
       "1/2 mean               0.709        16.405  \n",
       "    95.0% CI  [0.532, 0.839]  [10.0, 23.0]  \n",
       "3   mean               0.513        24.276  \n",
       "    95.0% CI  [0.371, 0.645]  [18.0, 31.0]  \n",
       "4   mean               0.722        21.319  \n",
       "    95.0% CI  [0.613, 0.823]  [15.0, 28.0]  "
      ]
     },
     "execution_count": 102,
     "metadata": {},
     "output_type": "execute_result"
    }
   ],
   "source": [
    "with warnings.catch_warnings():\n",
    "    warnings.simplefilter('ignore')\n",
    "    bs_results = bs_model(X, Y, GaussianNB(var_smoothing=6), m=10000)\n",
    "bs_results"
   ]
  },
  {
   "cell_type": "markdown",
   "id": "1f58d5e0-620f-42b0-8f33-04329fca0a4b",
   "metadata": {},
   "source": [
    "**Results:**\n",
    "|               |         | **sensitivity** | **specificity** | **precision** | **f1-score** | **accuracy** |**support** |\n",
    "|---------------|---------|-----------------|-----------------|---------------|--------------|--------------|------------|\n",
    "|**NB Model**   | **1/2** | 0.482 | 0.724 | 0.500 | 0.440 | 0.709 | 16.41 |\n",
    "|               | **3**   | 0.656 | 0.401 | 0.428 | 0.502 | 0.513 | 24.28 |\n",
    "|               | **4**   | 0.291 | 0.919 | 0.752 | 0.408 | 0.722 | 21.32 |"
   ]
  },
  {
   "cell_type": "markdown",
   "id": "f8ebb423-677b-4126-8ef7-0688aeb51eee",
   "metadata": {
    "jp-MarkdownHeadingCollapsed": true,
    "tags": []
   },
   "source": [
    "## Support Vector Machine<a id='support_vector_machine'></a>\n",
    "**Results:**\n",
    "|                |         | **sensitivity** | **specificity** | **precision** | **f1-score** | **accuracy** |**support** |\n",
    "|----------------|---------|-----------------|-----------------|---------------|--------------|--------------|------------|\n",
    "|**SVM Model**   | **1/2** | 0.421 | 0.804 | 0.524 | 0.436 | 0.735 | 16.40 |\n",
    "|                | **3**   | 0.538 | 0.584 | 0.479 | 0.495 | 0.580 | 24.35 |\n",
    "|                | **4**   | 0.634 | 0.717 | 0.637 | 0.628 | 0.748 | 21.25 |"
   ]
  },
  {
   "cell_type": "code",
   "execution_count": 167,
   "id": "e104c5c1-815d-4dfe-85ab-04734681fcde",
   "metadata": {
    "tags": []
   },
   "outputs": [],
   "source": [
    "from sklearn.svm import SVC, NuSVC"
   ]
  },
  {
   "cell_type": "code",
   "execution_count": 216,
   "id": "cb244a70-c5de-4bea-9b9e-b1dd15f3fe22",
   "metadata": {
    "tags": []
   },
   "outputs": [],
   "source": [
    "X, Y = (preprocess_df.drop(columns='Stage').values, preprocess_df['Stage'].values)\n",
    "x_train, x_test, y_train, y_test = train_test_split(X, Y, test_size=0.2)"
   ]
  },
  {
   "cell_type": "code",
   "execution_count": 160,
   "id": "6fe49abb-154a-4ab3-8d74-4ad3e44514d8",
   "metadata": {
    "tags": []
   },
   "outputs": [],
   "source": [
    "svc_model = SVC()\n",
    "grid_params = {'C':[0.01, 0.03, 0.1, 1, 3, 10],\n",
    "               'kernel':['sigmoid']}\n",
    "gridsearch_svc = GridSearchCV(svc_model, grid_params, scoring='f1_micro', return_train_score=True, cv=10)"
   ]
  },
  {
   "cell_type": "code",
   "execution_count": 161,
   "id": "bcf2e37f-cbba-497b-9130-db5b0e85a1c7",
   "metadata": {
    "tags": []
   },
   "outputs": [
    {
     "name": "stdout",
     "output_type": "stream",
     "text": [
      "SVC(C=1, kernel='sigmoid')\n",
      "0.5783333333333334\n"
     ]
    }
   ],
   "source": [
    "gridsearch_svc.fit(x_train, y_train)\n",
    "print(gridsearch_svc.best_estimator_)\n",
    "print(gridsearch_svc.best_score_)"
   ]
  },
  {
   "cell_type": "markdown",
   "id": "67efb381-b5dd-4916-a0a9-009fa193eb74",
   "metadata": {},
   "source": [
    "0.1, linear, 0.5495\n",
    "1, sigmoid, 0.586"
   ]
  },
  {
   "cell_type": "code",
   "execution_count": 162,
   "id": "474d834a-201f-41ec-a6be-000a89d62dd7",
   "metadata": {
    "tags": []
   },
   "outputs": [
    {
     "data": {
      "image/png": "[encoded data removed]",
      "text/plain": [
       "<Figure size 800x300 with 2 Axes>"
      ]
     },
     "metadata": {},
     "output_type": "display_data"
    }
   ],
   "source": [
    "plot_train_test(gridsearch_svc.cv_results_)"
   ]
  },
  {
   "cell_type": "code",
   "execution_count": 164,
   "id": "86e64938-2db4-4143-aa9a-2b01f6b4caa5",
   "metadata": {
    "tags": []
   },
   "outputs": [
    {
     "data": {
      "text/plain": [
       "[({'C': 0.01, 'kernel': 'sigmoid'}, 0.4181666666666667),\n",
       " ({'C': 0.03, 'kernel': 'sigmoid'}, 0.4141666666666667),\n",
       " ({'C': 0.1, 'kernel': 'sigmoid'}, 0.5201666666666667),\n",
       " ({'C': 1, 'kernel': 'sigmoid'}, 0.5783333333333334),\n",
       " ({'C': 3, 'kernel': 'sigmoid'}, 0.5493333333333333),\n",
       " ({'C': 10, 'kernel': 'sigmoid'}, 0.5209999999999999)]"
      ]
     },
     "execution_count": 164,
     "metadata": {},
     "output_type": "execute_result"
    }
   ],
   "source": [
    "list(zip(gridsearch_svc.cv_results_['params'], gridsearch_svc.cv_results_['mean_test_score']))"
   ]
  },
  {
   "cell_type": "code",
   "execution_count": 166,
   "id": "686cc607-6b5b-46f5-9825-858f8553832b",
   "metadata": {
    "tags": []
   },
   "outputs": [
    {
     "data": {
      "text/html": [
       "<div>\n",
       "<style scoped>\n",
       "    .dataframe tbody tr th:only-of-type {\n",
       "        vertical-align: middle;\n",
       "    }\n",
       "\n",
       "    .dataframe tbody tr th {\n",
       "        vertical-align: top;\n",
       "    }\n",
       "\n",
       "    .dataframe thead th {\n",
       "        text-align: right;\n",
       "    }\n",
       "</style>\n",
       "<table border=\"1\" class=\"dataframe\">\n",
       "  <thead>\n",
       "    <tr style=\"text-align: right;\">\n",
       "      <th></th>\n",
       "      <th></th>\n",
       "      <th>recall</th>\n",
       "      <th>specificity</th>\n",
       "      <th>precision</th>\n",
       "      <th>f1-score</th>\n",
       "      <th>accuracy</th>\n",
       "      <th>support</th>\n",
       "    </tr>\n",
       "  </thead>\n",
       "  <tbody>\n",
       "    <tr>\n",
       "      <th rowspan=\"2\" valign=\"top\">1/2</th>\n",
       "      <th>mean</th>\n",
       "      <td>0.421</td>\n",
       "      <td>0.804</td>\n",
       "      <td>0.524</td>\n",
       "      <td>0.436</td>\n",
       "      <td>0.735</td>\n",
       "      <td>16.399</td>\n",
       "    </tr>\n",
       "    <tr>\n",
       "      <th>95.0% CI</th>\n",
       "      <td>[0.048, 0.727]</td>\n",
       "      <td>[0.615, 1.0]</td>\n",
       "      <td>[0.231, 1.0]</td>\n",
       "      <td>[0.087, 0.64]</td>\n",
       "      <td>[0.629, 0.839]</td>\n",
       "      <td>[10.0, 23.0]</td>\n",
       "    </tr>\n",
       "    <tr>\n",
       "      <th rowspan=\"2\" valign=\"top\">3</th>\n",
       "      <th>mean</th>\n",
       "      <td>0.538</td>\n",
       "      <td>0.584</td>\n",
       "      <td>0.479</td>\n",
       "      <td>0.495</td>\n",
       "      <td>0.58</td>\n",
       "      <td>24.348</td>\n",
       "    </tr>\n",
       "    <tr>\n",
       "      <th>95.0% CI</th>\n",
       "      <td>[0.318, 0.8]</td>\n",
       "      <td>[0.333, 0.786]</td>\n",
       "      <td>[0.304, 0.679]</td>\n",
       "      <td>[0.346, 0.632]</td>\n",
       "      <td>[0.452, 0.694]</td>\n",
       "      <td>[18.0, 31.0]</td>\n",
       "    </tr>\n",
       "    <tr>\n",
       "      <th rowspan=\"2\" valign=\"top\">4</th>\n",
       "      <th>mean</th>\n",
       "      <td>0.634</td>\n",
       "      <td>0.717</td>\n",
       "      <td>0.637</td>\n",
       "      <td>0.628</td>\n",
       "      <td>0.748</td>\n",
       "      <td>21.253</td>\n",
       "    </tr>\n",
       "    <tr>\n",
       "      <th>95.0% CI</th>\n",
       "      <td>[0.429, 0.842]</td>\n",
       "      <td>[0.536, 0.88]</td>\n",
       "      <td>[0.444, 0.833]</td>\n",
       "      <td>[0.471, 0.769]</td>\n",
       "      <td>[0.645, 0.839]</td>\n",
       "      <td>[15.0, 28.0]</td>\n",
       "    </tr>\n",
       "  </tbody>\n",
       "</table>\n",
       "</div>"
      ],
      "text/plain": [
       "                      recall     specificity       precision        f1-score  \\\n",
       "1/2 mean               0.421           0.804           0.524           0.436   \n",
       "    95.0% CI  [0.048, 0.727]    [0.615, 1.0]    [0.231, 1.0]   [0.087, 0.64]   \n",
       "3   mean               0.538           0.584           0.479           0.495   \n",
       "    95.0% CI    [0.318, 0.8]  [0.333, 0.786]  [0.304, 0.679]  [0.346, 0.632]   \n",
       "4   mean               0.634           0.717           0.637           0.628   \n",
       "    95.0% CI  [0.429, 0.842]   [0.536, 0.88]  [0.444, 0.833]  [0.471, 0.769]   \n",
       "\n",
       "                    accuracy       support  \n",
       "1/2 mean               0.735        16.399  \n",
       "    95.0% CI  [0.629, 0.839]  [10.0, 23.0]  \n",
       "3   mean                0.58        24.348  \n",
       "    95.0% CI  [0.452, 0.694]  [18.0, 31.0]  \n",
       "4   mean               0.748        21.253  \n",
       "    95.0% CI  [0.645, 0.839]  [15.0, 28.0]  "
      ]
     },
     "execution_count": 166,
     "metadata": {},
     "output_type": "execute_result"
    }
   ],
   "source": [
    "with warnings.catch_warnings():\n",
    "    warnings.simplefilter('ignore')\n",
    "    bs_svc_results = bs_model(X, Y, SVC(C=1, kernel='sigmoid'), m=10000)\n",
    "bs_svc_results"
   ]
  },
  {
   "cell_type": "code",
   "execution_count": null,
   "id": "1d736df5-b47f-463d-9695-9e25bbb38da6",
   "metadata": {},
   "outputs": [],
   "source": []
  },
  {
   "cell_type": "code",
   "execution_count": 219,
   "id": "da7024ef-2b82-44d6-9f63-4a7c9559f166",
   "metadata": {
    "tags": []
   },
   "outputs": [],
   "source": [
    "svc_model = SVC(C=1, kernel='sigmoid')\n",
    "svc_model.fit(x_train, y_train)\n",
    "y_pred = svc_model.predict(x_test)"
   ]
  },
  {
   "cell_type": "code",
   "execution_count": 223,
   "id": "812a4978-412e-43a9-bc3e-74d0345b3a60",
   "metadata": {
    "tags": []
   },
   "outputs": [
    {
     "data": {
      "text/html": [
       "<div>\n",
       "<style scoped>\n",
       "    .dataframe tbody tr th:only-of-type {\n",
       "        vertical-align: middle;\n",
       "    }\n",
       "\n",
       "    .dataframe tbody tr th {\n",
       "        vertical-align: top;\n",
       "    }\n",
       "\n",
       "    .dataframe thead th {\n",
       "        text-align: right;\n",
       "    }\n",
       "</style>\n",
       "<table border=\"1\" class=\"dataframe\">\n",
       "  <thead>\n",
       "    <tr style=\"text-align: right;\">\n",
       "      <th></th>\n",
       "      <th>recall</th>\n",
       "      <th>specificity</th>\n",
       "      <th>precision</th>\n",
       "      <th>f1-score</th>\n",
       "      <th>accuracy</th>\n",
       "      <th>support</th>\n",
       "    </tr>\n",
       "  </thead>\n",
       "  <tbody>\n",
       "    <tr>\n",
       "      <th>1/2</th>\n",
       "      <td>0.444444</td>\n",
       "      <td>0.710526</td>\n",
       "      <td>0.266667</td>\n",
       "      <td>0.333333</td>\n",
       "      <td>0.741935</td>\n",
       "      <td>9.0</td>\n",
       "    </tr>\n",
       "    <tr>\n",
       "      <th>3</th>\n",
       "      <td>0.440000</td>\n",
       "      <td>0.588235</td>\n",
       "      <td>0.440000</td>\n",
       "      <td>0.440000</td>\n",
       "      <td>0.548387</td>\n",
       "      <td>25.0</td>\n",
       "    </tr>\n",
       "    <tr>\n",
       "      <th>4</th>\n",
       "      <td>0.571429</td>\n",
       "      <td>0.714286</td>\n",
       "      <td>0.727273</td>\n",
       "      <td>0.640000</td>\n",
       "      <td>0.709677</td>\n",
       "      <td>28.0</td>\n",
       "    </tr>\n",
       "  </tbody>\n",
       "</table>\n",
       "</div>"
      ],
      "text/plain": [
       "       recall  specificity  precision  f1-score  accuracy  support\n",
       "1/2  0.444444     0.710526   0.266667  0.333333  0.741935      9.0\n",
       "3    0.440000     0.588235   0.440000  0.440000  0.548387     25.0\n",
       "4    0.571429     0.714286   0.727273  0.640000  0.709677     28.0"
      ]
     },
     "execution_count": 223,
     "metadata": {},
     "output_type": "execute_result"
    }
   ],
   "source": [
    "pd.DataFrame(calc_3class_scores(y_test, y_pred)).T"
   ]
  },
  {
   "cell_type": "code",
   "execution_count": null,
   "id": "1f8011e2-311e-4cd9-ae09-37be01b900b9",
   "metadata": {},
   "outputs": [],
   "source": []
  },
  {
   "cell_type": "markdown",
   "id": "25437428-f622-46f8-8050-13616cfb10a8",
   "metadata": {
    "jp-MarkdownHeadingCollapsed": true,
    "tags": []
   },
   "source": [
    "## Gradient Boosting<a id='gradient_boosting'></a>\n",
    "Having trouble properly tuning hyperparameters. Either the model overfits to the training set immediately or does not train much at all.\n",
    "\n",
    "**Results:**\n",
    "|               |         | **sensitivity** | **specificity** | **precision** | **f1-score** | **accuracy** |**support** |\n",
    "|---------------|---------|-----------------|-----------------|---------------|--------------|--------------|------------|\n",
    "|**GB Model**   | **1/2** | 0.026 | 0.973 | 0.150 | 0.041 | 0.728 | 16.41 |\n",
    "|               | **3**   | 0.759 | 0.296 | 0.423 | 0.534 | 0.489 | 24.35 |\n",
    "|               | **4**   | 0.482 | 0.736 | 0.610 | 0.514 | 0.703 | 21.25 |"
   ]
  },
  {
   "cell_type": "code",
   "execution_count": 176,
   "id": "45a84bcb-e348-4079-b52b-fb54a59d0cc2",
   "metadata": {
    "tags": []
   },
   "outputs": [],
   "source": [
    "from sklearn.ensemble import GradientBoostingClassifier"
   ]
  },
  {
   "cell_type": "code",
   "execution_count": 28,
   "id": "e5037845-2d0a-478a-9f76-15ceb25a5acb",
   "metadata": {
    "tags": []
   },
   "outputs": [],
   "source": [
    "X, Y = (preprocess_df.drop(columns='Stage').values, preprocess_df['Stage'].values)\n",
    "x_train, x_test, y_train, y_test = train_test_split(X, Y, test_size=0.2)"
   ]
  },
  {
   "cell_type": "code",
   "execution_count": 210,
   "id": "e05c8b40-56a2-40e0-b38d-6faed376142d",
   "metadata": {
    "tags": []
   },
   "outputs": [],
   "source": [
    "grid_params = {'learning_rate':[0.01],\n",
    "               'max_depth':[3],\n",
    "               'n_estimators':[10, 15, 18, 20, 23, 25, 30]}\n",
    "gridsearch_gb = GridSearchCV(GradientBoostingClassifier(), grid_params, scoring='f1_micro', return_train_score=True, cv=10)"
   ]
  },
  {
   "cell_type": "code",
   "execution_count": 211,
   "id": "943862fd-f4e0-4aa2-b002-e671f3d74bbd",
   "metadata": {
    "tags": []
   },
   "outputs": [
    {
     "name": "stdout",
     "output_type": "stream",
     "text": [
      "GradientBoostingClassifier(learning_rate=0.01, n_estimators=20)\n",
      "0.5123333333333333\n"
     ]
    }
   ],
   "source": [
    "gridsearch_gb.fit(x_train, y_train)\n",
    "print(gridsearch_gb.best_estimator_)\n",
    "print(gridsearch_gb.best_score_)"
   ]
  },
  {
   "cell_type": "code",
   "execution_count": 213,
   "id": "22c76ec4-973a-40e3-8edc-53392ac1e9fb",
   "metadata": {
    "tags": []
   },
   "outputs": [
    {
     "data": {
      "image/png": "[encoded data removed]",
      "text/plain": [
       "<Figure size 800x300 with 2 Axes>"
      ]
     },
     "metadata": {},
     "output_type": "display_data"
    }
   ],
   "source": [
    "plot_train_test(gridsearch_gb.cv_results_)"
   ]
  },
  {
   "cell_type": "code",
   "execution_count": 214,
   "id": "4d8e9c6f-08dd-4bcf-b086-d5d121e9fa92",
   "metadata": {},
   "outputs": [
    {
     "data": {
      "text/plain": [
       "[({'learning_rate': 0.01, 'max_depth': 3, 'n_estimators': 10},\n",
       "  0.44266666666666665),\n",
       " ({'learning_rate': 0.01, 'max_depth': 3, 'n_estimators': 15}, 0.5085),\n",
       " ({'learning_rate': 0.01, 'max_depth': 3, 'n_estimators': 18},\n",
       "  0.5043333333333333),\n",
       " ({'learning_rate': 0.01, 'max_depth': 3, 'n_estimators': 20},\n",
       "  0.5123333333333333),\n",
       " ({'learning_rate': 0.01, 'max_depth': 3, 'n_estimators': 23},\n",
       "  0.5001666666666666),\n",
       " ({'learning_rate': 0.01, 'max_depth': 3, 'n_estimators': 25},\n",
       "  0.4958333333333333),\n",
       " ({'learning_rate': 0.01, 'max_depth': 3, 'n_estimators': 30}, 0.4835)]"
      ]
     },
     "execution_count": 214,
     "metadata": {},
     "output_type": "execute_result"
    }
   ],
   "source": [
    "list(zip(gridsearch_gb.cv_results_['params'], gridsearch_gb.cv_results_['mean_test_score']))"
   ]
  },
  {
   "cell_type": "code",
   "execution_count": 215,
   "id": "3cd3e1ac-5d98-4713-8b30-62a7adb55fe1",
   "metadata": {
    "tags": []
   },
   "outputs": [
    {
     "data": {
      "text/html": [
       "<div>\n",
       "<style scoped>\n",
       "    .dataframe tbody tr th:only-of-type {\n",
       "        vertical-align: middle;\n",
       "    }\n",
       "\n",
       "    .dataframe tbody tr th {\n",
       "        vertical-align: top;\n",
       "    }\n",
       "\n",
       "    .dataframe thead th {\n",
       "        text-align: right;\n",
       "    }\n",
       "</style>\n",
       "<table border=\"1\" class=\"dataframe\">\n",
       "  <thead>\n",
       "    <tr style=\"text-align: right;\">\n",
       "      <th></th>\n",
       "      <th></th>\n",
       "      <th>recall</th>\n",
       "      <th>specificity</th>\n",
       "      <th>precision</th>\n",
       "      <th>f1-score</th>\n",
       "      <th>accuracy</th>\n",
       "      <th>support</th>\n",
       "    </tr>\n",
       "  </thead>\n",
       "  <tbody>\n",
       "    <tr>\n",
       "      <th rowspan=\"2\" valign=\"top\">1/2</th>\n",
       "      <th>mean</th>\n",
       "      <td>0.026</td>\n",
       "      <td>0.973</td>\n",
       "      <td>0.15</td>\n",
       "      <td>0.041</td>\n",
       "      <td>0.728</td>\n",
       "      <td>16.405</td>\n",
       "    </tr>\n",
       "    <tr>\n",
       "      <th>95.0% CI</th>\n",
       "      <td>[0.0, 0.182]</td>\n",
       "      <td>[0.853, 1.0]</td>\n",
       "      <td>[0.0, 1.0]</td>\n",
       "      <td>[0.0, 0.25]</td>\n",
       "      <td>[0.629, 0.823]</td>\n",
       "      <td>[10.0, 23.0]</td>\n",
       "    </tr>\n",
       "    <tr>\n",
       "      <th rowspan=\"2\" valign=\"top\">3</th>\n",
       "      <th>mean</th>\n",
       "      <td>0.759</td>\n",
       "      <td>0.296</td>\n",
       "      <td>0.423</td>\n",
       "      <td>0.534</td>\n",
       "      <td>0.489</td>\n",
       "      <td>24.35</td>\n",
       "    </tr>\n",
       "    <tr>\n",
       "      <th>95.0% CI</th>\n",
       "      <td>[0.5, 0.958]</td>\n",
       "      <td>[0.121, 0.515]</td>\n",
       "      <td>[0.293, 0.571]</td>\n",
       "      <td>[0.414, 0.648]</td>\n",
       "      <td>[0.355, 0.613]</td>\n",
       "      <td>[18.0, 31.0]</td>\n",
       "    </tr>\n",
       "    <tr>\n",
       "      <th rowspan=\"2\" valign=\"top\">4</th>\n",
       "      <th>mean</th>\n",
       "      <td>0.482</td>\n",
       "      <td>0.736</td>\n",
       "      <td>0.61</td>\n",
       "      <td>0.514</td>\n",
       "      <td>0.703</td>\n",
       "      <td>21.245</td>\n",
       "    </tr>\n",
       "    <tr>\n",
       "      <th>95.0% CI</th>\n",
       "      <td>[0.2, 0.789]</td>\n",
       "      <td>[0.483, 0.955]</td>\n",
       "      <td>[0.36, 0.9]</td>\n",
       "      <td>[0.294, 0.683]</td>\n",
       "      <td>[0.597, 0.806]</td>\n",
       "      <td>[15.0, 28.0]</td>\n",
       "    </tr>\n",
       "  </tbody>\n",
       "</table>\n",
       "</div>"
      ],
      "text/plain": [
       "                    recall     specificity       precision        f1-score  \\\n",
       "1/2 mean             0.026           0.973            0.15           0.041   \n",
       "    95.0% CI  [0.0, 0.182]    [0.853, 1.0]      [0.0, 1.0]     [0.0, 0.25]   \n",
       "3   mean             0.759           0.296           0.423           0.534   \n",
       "    95.0% CI  [0.5, 0.958]  [0.121, 0.515]  [0.293, 0.571]  [0.414, 0.648]   \n",
       "4   mean             0.482           0.736            0.61           0.514   \n",
       "    95.0% CI  [0.2, 0.789]  [0.483, 0.955]     [0.36, 0.9]  [0.294, 0.683]   \n",
       "\n",
       "                    accuracy       support  \n",
       "1/2 mean               0.728        16.405  \n",
       "    95.0% CI  [0.629, 0.823]  [10.0, 23.0]  \n",
       "3   mean               0.489         24.35  \n",
       "    95.0% CI  [0.355, 0.613]  [18.0, 31.0]  \n",
       "4   mean               0.703        21.245  \n",
       "    95.0% CI  [0.597, 0.806]  [15.0, 28.0]  "
      ]
     },
     "execution_count": 215,
     "metadata": {},
     "output_type": "execute_result"
    }
   ],
   "source": [
    "with warnings.catch_warnings():\n",
    "    warnings.simplefilter('ignore')\n",
    "    bs_gb_results = bs_model(X, Y, GradientBoostingClassifier(n_estimators=20, learning_rate=0.01), m=10000)\n",
    "bs_gb_results"
   ]
  },
  {
   "cell_type": "markdown",
   "id": "7814cc96-053c-4b85-a77d-c1025d57ee42",
   "metadata": {},
   "source": [
    "**Results:**\n",
    "|               |         | **sensitivity** | **specificity** | **precision** | **f1-score** | **accuracy** |**support** |\n",
    "|---------------|---------|-----------------|-----------------|---------------|--------------|--------------|------------|\n",
    "|**GB Model**   | **1/2** | 0.026 | 0.973 | 0.150 | 0.041 | 0.728 | 16.41 |\n",
    "|               | **3**   | 0.759 | 0.296 | 0.423 | 0.534 | 0.489 | 24.35 |\n",
    "|               | **4**   | 0.482 | 0.736 | 0.610 | 0.514 | 0.703 | 21.25 |"
   ]
  },
  {
   "cell_type": "code",
   "execution_count": null,
   "id": "72da98ee-9a0f-4242-9f9c-3f27a5fde1c8",
   "metadata": {},
   "outputs": [],
   "source": []
  },
  {
   "cell_type": "markdown",
   "id": "483bd31f-1279-4d74-921c-2e5ad4f0fa58",
   "metadata": {
    "jp-MarkdownHeadingCollapsed": true,
    "tags": []
   },
   "source": [
    "## Feedforward NN<a id='feedforward_nn'></a>\n",
    "Two models were tested, one for detecting advanced fibrosis (F3/F4) and the other for detecting cirrhosis (F4). \n",
    "\n",
    "**Results:**\n",
    "|                |         | **sensitivity** | **specificity** | **precision** | **f1-score** | **accuracy** | **support pos** |**support neg** |\n",
    "|----------------|---------|-----------------|-----------------|---------------|--------------|--------------|-----------------|----------------|\n",
    "|**FNN Model**   | **1/2** | 0.357 | 0.938 | 0.802 | 0.863 | 0.784 | 16.46 | 45.54 |\n",
    "|                | **4**   | 0.510 | 0.909 | 0.694 | 0.837 | 0.771 | 21.44 | 40.56 |"
   ]
  },
  {
   "cell_type": "code",
   "execution_count": 12,
   "id": "d43580fe-cc88-4e66-9ef3-c514f3caea48",
   "metadata": {
    "tags": []
   },
   "outputs": [
    {
     "name": "stdout",
     "output_type": "stream",
     "text": [
      "WARNING:tensorflow:From C:\\Users\\kimvo\\anaconda3\\Lib\\site-packages\\keras\\src\\losses.py:2976: The name tf.losses.sparse_softmax_cross_entropy is deprecated. Please use tf.compat.v1.losses.sparse_softmax_cross_entropy instead.\n",
      "\n"
     ]
    }
   ],
   "source": [
    "import tensorflow as tf\n",
    "from tensorflow import keras\n",
    "from tensorflow.keras.layers import Dense, Dropout, Softmax"
   ]
  },
  {
   "cell_type": "code",
   "execution_count": 18,
   "id": "526b667f-9472-44c5-a39e-f4516ac639d7",
   "metadata": {
    "tags": []
   },
   "outputs": [],
   "source": [
    "def plot_history(history):\n",
    "    plt.figure(figsize=(12, 3))\n",
    "    plt.subplot(1,2,2)\n",
    "    plt.plot(history.history['accuracy'], label='train')\n",
    "    plt.plot(history.history['val_accuracy'], label='val')\n",
    "    plt.title('model accuracy')\n",
    "    plt.ylabel('accuracy')\n",
    "    plt.xlabel('epoch')\n",
    "    plt.legend(loc='upper left')\n",
    "    plt.subplot(1,2,1)\n",
    "    plt.plot(history.history['loss'], label='train')\n",
    "    plt.plot(history.history['val_loss'], label='val')\n",
    "    plt.title('model loss')\n",
    "    plt.ylabel('loss')\n",
    "    plt.xlabel('epoch')\n",
    "    plt.legend(loc=2)"
   ]
  },
  {
   "cell_type": "markdown",
   "id": "f18bf7c5-5a63-4eaf-b0ec-2a5925da0044",
   "metadata": {
    "jp-MarkdownHeadingCollapsed": true,
    "tags": []
   },
   "source": [
    "### Predicting Advanced Fibrosis<a id='predicting_advanced_fibrosis_fnn'></a>"
   ]
  },
  {
   "cell_type": "code",
   "execution_count": 221,
   "id": "ae6ee5df-e64f-4a0d-bebb-2cc303f4c839",
   "metadata": {
    "tags": []
   },
   "outputs": [],
   "source": [
    "import tensorflow as tf\n",
    "from tensorflow import keras\n",
    "from tensorflow.keras.layers import Dense, Dropout, Softmax"
   ]
  },
  {
   "cell_type": "code",
   "execution_count": 222,
   "id": "05e4b723-8afa-43b9-959c-ab657708c958",
   "metadata": {
    "tags": []
   },
   "outputs": [],
   "source": [
    "X, Y = (preprocess_df.drop(columns='Stage').values, preprocess_df['Stage'].values.reshape(-1,1))\n",
    "mapper = {'4':0,'3':0,'1/2':1}\n",
    "y_binary = np.array([mapper[val] for val in Y.flatten()]).reshape(-1,1)\n",
    "ohe = OneHotEncoder(sparse_output=False)\n",
    "y_ohe = ohe.fit_transform(y_binary)"
   ]
  },
  {
   "cell_type": "code",
   "execution_count": 223,
   "id": "9962445e-5e87-4df3-93f9-6c4114b20cc2",
   "metadata": {
    "collapsed": true,
    "jupyter": {
     "outputs_hidden": true
    },
    "tags": []
   },
   "outputs": [
    {
     "name": "stdout",
     "output_type": "stream",
     "text": [
      "2/2 [==============================] - 0s 4ms/step\n",
      "2/2 [==============================] - 0s 11ms/step\n",
      "2/2 [==============================] - 0s 4ms/step\n",
      "2/2 [==============================] - 0s 9ms/step\n",
      "2/2 [==============================] - 0s 14ms/step\n",
      "2/2 [==============================] - 0s 3ms/step\n",
      "2/2 [==============================] - 0s 11ms/step\n",
      "2/2 [==============================] - 0s 0s/step\n",
      "2/2 [==============================] - 0s 15ms/step\n",
      "2/2 [==============================] - 0s 2ms/step\n",
      "2/2 [==============================] - 0s 0s/step\n",
      "2/2 [==============================] - 0s 4ms/step\n",
      "2/2 [==============================] - 0s 19ms/step\n",
      "2/2 [==============================] - 0s 5ms/step\n",
      "2/2 [==============================] - 0s 8ms/step\n",
      "2/2 [==============================] - 0s 10ms/step\n",
      "2/2 [==============================] - 0s 16ms/step\n",
      "2/2 [==============================] - 0s 10ms/step\n",
      "2/2 [==============================] - 0s 17ms/step\n",
      "2/2 [==============================] - 0s 16ms/step\n",
      "2/2 [==============================] - 0s 16ms/step\n",
      "2/2 [==============================] - 0s 13ms/step\n",
      "2/2 [==============================] - 0s 20ms/step\n",
      "2/2 [==============================] - 0s 13ms/step\n",
      "2/2 [==============================] - 0s 16ms/step\n",
      "2/2 [==============================] - 0s 20ms/step\n",
      "2/2 [==============================] - 0s 12ms/step\n",
      "2/2 [==============================] - 0s 9ms/step\n",
      "2/2 [==============================] - 0s 14ms/step\n",
      "2/2 [==============================] - 0s 8ms/step\n",
      "2/2 [==============================] - 0s 7ms/step\n",
      "2/2 [==============================] - 0s 19ms/step\n",
      "2/2 [==============================] - 0s 4ms/step\n",
      "2/2 [==============================] - 0s 4ms/step\n",
      "2/2 [==============================] - 0s 12ms/step\n",
      "2/2 [==============================] - 0s 0s/step\n",
      "2/2 [==============================] - 0s 0s/step\n",
      "2/2 [==============================] - 0s 12ms/step\n",
      "2/2 [==============================] - 0s 12ms/step\n",
      "2/2 [==============================] - 0s 12ms/step\n",
      "2/2 [==============================] - 0s 15ms/step\n",
      "2/2 [==============================] - 0s 7ms/step\n",
      "2/2 [==============================] - 0s 5ms/step\n",
      "2/2 [==============================] - 0s 0s/step\n",
      "2/2 [==============================] - 0s 20ms/step\n",
      "2/2 [==============================] - 0s 7ms/step\n",
      "2/2 [==============================] - 0s 17ms/step\n",
      "2/2 [==============================] - 0s 0s/step\n",
      "2/2 [==============================] - 0s 12ms/step\n",
      "2/2 [==============================] - 0s 12ms/step\n",
      "2/2 [==============================] - 0s 18ms/step\n",
      "2/2 [==============================] - 0s 14ms/step\n",
      "2/2 [==============================] - 0s 11ms/step\n",
      "2/2 [==============================] - 0s 0s/step\n",
      "2/2 [==============================] - 0s 12ms/step\n",
      "2/2 [==============================] - 0s 18ms/step\n",
      "2/2 [==============================] - 0s 13ms/step\n",
      "2/2 [==============================] - 0s 9ms/step\n",
      "2/2 [==============================] - 0s 7ms/step\n",
      "2/2 [==============================] - 0s 15ms/step\n",
      "2/2 [==============================] - 0s 11ms/step\n",
      "2/2 [==============================] - 0s 12ms/step\n",
      "2/2 [==============================] - 0s 0s/step\n",
      "2/2 [==============================] - 0s 5ms/step\n",
      "2/2 [==============================] - 0s 16ms/step\n",
      "2/2 [==============================] - 0s 18ms/step\n",
      "2/2 [==============================] - 0s 19ms/step\n",
      "2/2 [==============================] - 0s 14ms/step\n",
      "2/2 [==============================] - 0s 13ms/step\n",
      "2/2 [==============================] - 0s 5ms/step\n",
      "2/2 [==============================] - 0s 19ms/step\n",
      "2/2 [==============================] - 0s 0s/step\n",
      "2/2 [==============================] - 0s 5ms/step\n",
      "2/2 [==============================] - 0s 13ms/step\n",
      "2/2 [==============================] - 0s 9ms/step\n",
      "2/2 [==============================] - 0s 8ms/step\n",
      "2/2 [==============================] - 0s 6ms/step\n",
      "2/2 [==============================] - 0s 11ms/step\n",
      "2/2 [==============================] - 0s 0s/step\n",
      "2/2 [==============================] - 0s 0s/step\n",
      "2/2 [==============================] - 0s 0s/step\n",
      "2/2 [==============================] - 0s 16ms/step\n",
      "2/2 [==============================] - 0s 17ms/step\n",
      "2/2 [==============================] - 0s 16ms/step\n",
      "2/2 [==============================] - 0s 4ms/step\n",
      "2/2 [==============================] - 0s 5ms/step\n",
      "2/2 [==============================] - 0s 15ms/step\n",
      "2/2 [==============================] - 0s 0s/step\n",
      "2/2 [==============================] - 0s 4ms/step\n",
      "2/2 [==============================] - 0s 7ms/step\n",
      "2/2 [==============================] - 0s 17ms/step\n",
      "2/2 [==============================] - 0s 0s/step\n",
      "2/2 [==============================] - 0s 7ms/step\n",
      "2/2 [==============================] - 0s 16ms/step\n",
      "2/2 [==============================] - 0s 12ms/step\n",
      "2/2 [==============================] - 0s 7ms/step\n",
      "2/2 [==============================] - 0s 12ms/step\n",
      "2/2 [==============================] - 0s 5ms/step\n",
      "2/2 [==============================] - 0s 4ms/step\n",
      "2/2 [==============================] - 0s 19ms/step\n"
     ]
    }
   ],
   "source": [
    "m = 100\n",
    "scores = np.empty([m, 7])\n",
    "checkpoint_filepath = './tmp/checkpoint'\n",
    "model_checkpoint_callback = tf.keras.callbacks.ModelCheckpoint(\n",
    "    filepath=checkpoint_filepath,\n",
    "    save_weights_only=True,\n",
    "    monitor='val_accuracy',\n",
    "    mode='max',\n",
    "    save_best_only=True)\n",
    "for i in range(m):\n",
    "    x_train, x_test, y_train, y_test = train_test_split(X, y_ohe, test_size=0.2)\n",
    "    \n",
    "    inputs = keras.Input(shape=(22,))\n",
    "    x = Dense(8, activation='relu')(inputs)\n",
    "    x = Dropout(0.1)(x)\n",
    "    x = Dense(4, activation='relu')(x)\n",
    "    x = Dropout(0.1)(x)\n",
    "    x = Dense(2, activation='sigmoid')(x)\n",
    "    outputs = keras.layers.Softmax()(x)\n",
    "\n",
    "    model = keras.Model(inputs=inputs, outputs=outputs, name='fnn_cirrhosis')\n",
    "    model.compile(optimizer=keras.optimizers.Adam(learning_rate=0.003),\n",
    "                  loss=keras.losses.BinaryCrossentropy(),\n",
    "                  metrics=['accuracy'])\n",
    "    model.fit(x_train, y_train, epochs=100, batch_size=95, validation_split=0.2, verbose=0, callbacks=[model_checkpoint_callback])\n",
    "    model.load_weights(checkpoint_filepath)\n",
    "    \n",
    "    true, pred = (np.argmax(y_test, axis=1), np.argmax(model.predict(x_test), axis=1))\n",
    "    scores[i] = list(calc_2class_scores(true, pred).values())"
   ]
  },
  {
   "cell_type": "code",
   "execution_count": 224,
   "id": "47a1e3da-79b2-4299-94d1-ef79b579a5e4",
   "metadata": {
    "tags": []
   },
   "outputs": [
    {
     "data": {
      "text/html": [
       "<div>\n",
       "<style scoped>\n",
       "    .dataframe tbody tr th:only-of-type {\n",
       "        vertical-align: middle;\n",
       "    }\n",
       "\n",
       "    .dataframe tbody tr th {\n",
       "        vertical-align: top;\n",
       "    }\n",
       "\n",
       "    .dataframe thead th {\n",
       "        text-align: right;\n",
       "    }\n",
       "</style>\n",
       "<table border=\"1\" class=\"dataframe\">\n",
       "  <thead>\n",
       "    <tr style=\"text-align: right;\">\n",
       "      <th></th>\n",
       "      <th>recall</th>\n",
       "      <th>specificity</th>\n",
       "      <th>precision</th>\n",
       "      <th>f1-score</th>\n",
       "      <th>accuracy</th>\n",
       "      <th>support_pos</th>\n",
       "      <th>support_neg</th>\n",
       "    </tr>\n",
       "  </thead>\n",
       "  <tbody>\n",
       "    <tr>\n",
       "      <th>0</th>\n",
       "      <td>0.93857</td>\n",
       "      <td>0.35663</td>\n",
       "      <td>0.8015</td>\n",
       "      <td>0.86335</td>\n",
       "      <td>0.78432</td>\n",
       "      <td>45.54</td>\n",
       "      <td>16.46</td>\n",
       "    </tr>\n",
       "  </tbody>\n",
       "</table>\n",
       "</div>"
      ],
      "text/plain": [
       "    recall  specificity  precision  f1-score  accuracy  support_pos  \\\n",
       "0  0.93857      0.35663     0.8015   0.86335   0.78432        45.54   \n",
       "\n",
       "   support_neg  \n",
       "0        16.46  "
      ]
     },
     "execution_count": 224,
     "metadata": {},
     "output_type": "execute_result"
    }
   ],
   "source": [
    "pd.DataFrame(np.mean(scores, axis=0).reshape(1, -1), columns=['recall', 'specificity', 'precision', 'f1-score', 'accuracy', 'support_pos', 'support_neg'])"
   ]
  },
  {
   "cell_type": "markdown",
   "id": "f904aa28-2748-47dc-becb-39c9873a64d8",
   "metadata": {
    "jp-MarkdownHeadingCollapsed": true,
    "tags": []
   },
   "source": [
    "### Predicting Cirrhosis<a id='predicting_cirrhosis_fnn'></a>"
   ]
  },
  {
   "cell_type": "code",
   "execution_count": 53,
   "id": "f2f5511e-e39d-4fcd-b457-812d0fd62539",
   "metadata": {
    "tags": []
   },
   "outputs": [],
   "source": [
    "import tensorflow as tf\n",
    "from tensorflow import keras\n",
    "from tensorflow.keras.layers import Dense, Dropout, Softmax"
   ]
  },
  {
   "cell_type": "code",
   "execution_count": 79,
   "id": "0ee8a15f-1492-4298-a4e5-58bf15d4d402",
   "metadata": {
    "tags": []
   },
   "outputs": [],
   "source": [
    "X, Y = (preprocess_df.drop(columns='Stage').values, preprocess_df['Stage'].values.reshape(-1,1))\n",
    "mapper = {'4':1,'3':0,'1/2':0}\n",
    "y_binary = np.array([mapper[val] for val in Y.flatten()]).reshape(-1,1)\n",
    "ohe = OneHotEncoder(sparse_output=False)\n",
    "y_ohe = ohe.fit_transform(y_binary)"
   ]
  },
  {
   "cell_type": "code",
   "execution_count": 177,
   "id": "f964e063-6cb5-434b-8a65-f9ee47f5502b",
   "metadata": {
    "tags": []
   },
   "outputs": [],
   "source": [
    "x_train, x_test, y_train, y_test = train_test_split(X, y_ohe, test_size=0.2)"
   ]
  },
  {
   "cell_type": "code",
   "execution_count": 178,
   "id": "60e0d4e9-9b48-48d3-9bf9-08b124bca1d9",
   "metadata": {
    "tags": []
   },
   "outputs": [],
   "source": [
    "# testing hyperparameters\n",
    "inputs = keras.Input(shape=(22,))\n",
    "x = Dense(8, activation='relu')(inputs)\n",
    "x = Dropout(0.1)(x)\n",
    "x = Dense(4, activation='relu')(x)\n",
    "x = Dropout(0.1)(x)\n",
    "x = Dense(2, activation='sigmoid')(x)\n",
    "outputs = keras.layers.Softmax()(x)\n",
    "\n",
    "model = keras.Model(inputs=inputs, outputs=outputs, name='fnn_cirrhosis')\n",
    "model.compile(optimizer=keras.optimizers.Adam(learning_rate=0.003),\n",
    "              loss=keras.losses.BinaryCrossentropy(),\n",
    "              metrics=['accuracy'])"
   ]
  },
  {
   "cell_type": "code",
   "execution_count": 179,
   "id": "af2f4563-01b9-46c0-a93e-e1ebe181e14b",
   "metadata": {
    "tags": []
   },
   "outputs": [],
   "source": [
    "checkpoint_filepath = './tmp/checkpoint'\n",
    "model_checkpoint_callback = tf.keras.callbacks.ModelCheckpoint(\n",
    "    filepath=checkpoint_filepath,\n",
    "    save_weights_only=True,\n",
    "    monitor='val_accuracy',\n",
    "    mode='max',\n",
    "    save_best_only=True)"
   ]
  },
  {
   "cell_type": "code",
   "execution_count": 188,
   "id": "bdfeda97-2a4c-497d-b09b-7840c8bc1711",
   "metadata": {
    "tags": []
   },
   "outputs": [
    {
     "data": {
      "image/png": "[encoded data removed]",
      "text/plain": [
       "<Figure size 1200x300 with 2 Axes>"
      ]
     },
     "metadata": {},
     "output_type": "display_data"
    }
   ],
   "source": [
    "history = model.fit(x_train, y_train, epochs=100, batch_size=95, validation_split=0.2, verbose=0, callbacks=[model_checkpoint_callback])\n",
    "plot_history(history)"
   ]
  },
  {
   "cell_type": "code",
   "execution_count": 189,
   "id": "f405f0df-21b5-4a20-8b00-08c6a8999a63",
   "metadata": {
    "tags": []
   },
   "outputs": [
    {
     "name": "stdout",
     "output_type": "stream",
     "text": [
      "tf.Tensor(\n",
      "[-0.8397424   0.3727979  -0.03976616  0.14646147 -0.91462773  0.13754845\n",
      "  0.12588353 -0.29464507], shape=(8,), dtype=float32)\n",
      "tf.Tensor(\n",
      "[-0.69090426  0.37417644  0.00825266  0.07205034 -0.7820904   0.03420365\n",
      "  0.04936866 -0.20504554], shape=(8,), dtype=float32)\n"
     ]
    }
   ],
   "source": [
    "print(model.weights[0][0])\n",
    "model.load_weights(checkpoint_filepath)\n",
    "print(model.weights[0][0])"
   ]
  },
  {
   "cell_type": "code",
   "execution_count": 190,
   "id": "22862280-54c2-4446-834e-2cc4564cef98",
   "metadata": {
    "tags": []
   },
   "outputs": [
    {
     "name": "stdout",
     "output_type": "stream",
     "text": [
      "2/2 [==============================] - 0s 11ms/step - loss: 0.6476 - accuracy: 0.7258\n"
     ]
    },
    {
     "data": {
      "text/plain": [
       "[0.6475799679756165, 0.725806474685669]"
      ]
     },
     "execution_count": 190,
     "metadata": {},
     "output_type": "execute_result"
    }
   ],
   "source": [
    "model.load_weights(checkpoint_filepath)\n",
    "model.evaluate(x_test, y_test)"
   ]
  },
  {
   "cell_type": "code",
   "execution_count": 191,
   "id": "5413633b-7877-4289-abeb-4fd2a6fe1989",
   "metadata": {
    "tags": []
   },
   "outputs": [
    {
     "name": "stdout",
     "output_type": "stream",
     "text": [
      "2/2 [==============================] - 0s 4ms/step\n"
     ]
    },
    {
     "data": {
      "text/html": [
       "<div>\n",
       "<style scoped>\n",
       "    .dataframe tbody tr th:only-of-type {\n",
       "        vertical-align: middle;\n",
       "    }\n",
       "\n",
       "    .dataframe tbody tr th {\n",
       "        vertical-align: top;\n",
       "    }\n",
       "\n",
       "    .dataframe thead th {\n",
       "        text-align: right;\n",
       "    }\n",
       "</style>\n",
       "<table border=\"1\" class=\"dataframe\">\n",
       "  <thead>\n",
       "    <tr style=\"text-align: right;\">\n",
       "      <th></th>\n",
       "      <th>recall</th>\n",
       "      <th>specificity</th>\n",
       "      <th>precision</th>\n",
       "      <th>f1-score</th>\n",
       "      <th>accuracy</th>\n",
       "      <th>support_pos</th>\n",
       "      <th>support_neg</th>\n",
       "    </tr>\n",
       "  </thead>\n",
       "  <tbody>\n",
       "    <tr>\n",
       "      <th>0</th>\n",
       "      <td>0.944</td>\n",
       "      <td>0.423</td>\n",
       "      <td>0.694</td>\n",
       "      <td>0.8</td>\n",
       "      <td>0.726</td>\n",
       "      <td>36</td>\n",
       "      <td>26</td>\n",
       "    </tr>\n",
       "  </tbody>\n",
       "</table>\n",
       "</div>"
      ],
      "text/plain": [
       "   recall  specificity  precision  f1-score  accuracy  support_pos  \\\n",
       "0   0.944        0.423      0.694       0.8     0.726           36   \n",
       "\n",
       "   support_neg  \n",
       "0           26  "
      ]
     },
     "execution_count": 191,
     "metadata": {},
     "output_type": "execute_result"
    }
   ],
   "source": [
    "true, pred = (np.argmax(y_test, axis=1), np.argmax(model.predict(x_test), axis=1))\n",
    "pd.DataFrame([calc_2class_scores(true, pred)])"
   ]
  },
  {
   "cell_type": "code",
   "execution_count": 204,
   "id": "1437c3b0-3b17-4448-b342-470d5bb681ac",
   "metadata": {
    "collapsed": true,
    "jupyter": {
     "outputs_hidden": true
    },
    "tags": []
   },
   "outputs": [
    {
     "name": "stdout",
     "output_type": "stream",
     "text": [
      "2/2 [==============================] - 0s 19ms/step\n",
      "2/2 [==============================] - 0s 0s/step\n",
      "2/2 [==============================] - 0s 0s/step\n",
      "2/2 [==============================] - 0s 0s/step\n",
      "2/2 [==============================] - 0s 0s/step\n",
      "2/2 [==============================] - 0s 0s/step\n",
      "2/2 [==============================] - 0s 0s/step\n",
      "2/2 [==============================] - 0s 0s/step\n",
      "2/2 [==============================] - 0s 0s/step\n",
      "2/2 [==============================] - 0s 0s/step\n",
      "2/2 [==============================] - 0s 16ms/step\n",
      "2/2 [==============================] - 0s 16ms/step\n",
      "2/2 [==============================] - 0s 0s/step\n",
      "2/2 [==============================] - 0s 0s/step\n",
      "2/2 [==============================] - 0s 0s/step\n",
      "2/2 [==============================] - 0s 0s/step\n",
      "2/2 [==============================] - 0s 0s/step\n",
      "2/2 [==============================] - 0s 16ms/step\n",
      "2/2 [==============================] - 0s 0s/step\n",
      "2/2 [==============================] - 0s 16ms/step\n",
      "2/2 [==============================] - 0s 0s/step\n",
      "2/2 [==============================] - 0s 0s/step\n",
      "2/2 [==============================] - 0s 0s/step\n",
      "2/2 [==============================] - 0s 16ms/step\n",
      "2/2 [==============================] - 0s 0s/step\n",
      "2/2 [==============================] - 0s 16ms/step\n",
      "2/2 [==============================] - 0s 0s/step\n",
      "2/2 [==============================] - 0s 0s/step\n",
      "2/2 [==============================] - 0s 0s/step\n",
      "2/2 [==============================] - 0s 0s/step\n",
      "2/2 [==============================] - 0s 16ms/step\n",
      "2/2 [==============================] - 0s 0s/step\n",
      "2/2 [==============================] - 0s 0s/step\n",
      "2/2 [==============================] - 0s 0s/step\n",
      "2/2 [==============================] - 0s 0s/step\n",
      "2/2 [==============================] - 0s 0s/step\n",
      "2/2 [==============================] - 0s 16ms/step\n",
      "2/2 [==============================] - 0s 16ms/step\n",
      "2/2 [==============================] - 0s 0s/step\n",
      "2/2 [==============================] - 0s 0s/step\n",
      "2/2 [==============================] - 0s 4ms/step\n",
      "2/2 [==============================] - 0s 0s/step\n",
      "2/2 [==============================] - 0s 0s/step\n",
      "2/2 [==============================] - 0s 0s/step\n",
      "2/2 [==============================] - 0s 0s/step\n",
      "2/2 [==============================] - 0s 0s/step\n",
      "2/2 [==============================] - 0s 0s/step\n",
      "2/2 [==============================] - 0s 0s/step\n",
      "2/2 [==============================] - 0s 0s/step\n",
      "2/2 [==============================] - 0s 16ms/step\n",
      "2/2 [==============================] - 0s 0s/step\n",
      "2/2 [==============================] - 0s 0s/step\n",
      "2/2 [==============================] - 0s 0s/step\n",
      "2/2 [==============================] - 0s 16ms/step\n",
      "2/2 [==============================] - 0s 0s/step\n",
      "2/2 [==============================] - 0s 16ms/step\n",
      "2/2 [==============================] - 0s 0s/step\n",
      "2/2 [==============================] - 0s 0s/step\n",
      "2/2 [==============================] - 0s 0s/step\n",
      "2/2 [==============================] - 0s 0s/step\n",
      "2/2 [==============================] - 0s 0s/step\n",
      "2/2 [==============================] - 0s 0s/step\n",
      "2/2 [==============================] - 0s 16ms/step\n",
      "2/2 [==============================] - 0s 0s/step\n",
      "2/2 [==============================] - 0s 8ms/step\n",
      "2/2 [==============================] - 0s 0s/step\n",
      "2/2 [==============================] - 0s 0s/step\n",
      "2/2 [==============================] - 0s 0s/step\n",
      "2/2 [==============================] - 0s 0s/step\n",
      "2/2 [==============================] - 0s 0s/step\n",
      "2/2 [==============================] - 0s 0s/step\n",
      "2/2 [==============================] - 0s 0s/step\n",
      "2/2 [==============================] - 0s 16ms/step\n",
      "2/2 [==============================] - 0s 0s/step\n",
      "2/2 [==============================] - 0s 4ms/step\n",
      "2/2 [==============================] - 0s 0s/step\n",
      "2/2 [==============================] - 0s 0s/step\n",
      "2/2 [==============================] - 0s 0s/step\n",
      "2/2 [==============================] - 0s 0s/step\n",
      "2/2 [==============================] - 0s 0s/step\n",
      "2/2 [==============================] - 0s 0s/step\n",
      "2/2 [==============================] - 0s 0s/step\n",
      "2/2 [==============================] - 0s 16ms/step\n",
      "2/2 [==============================] - 0s 3ms/step\n",
      "2/2 [==============================] - 0s 0s/step\n",
      "2/2 [==============================] - 0s 0s/step\n",
      "2/2 [==============================] - 0s 0s/step\n",
      "2/2 [==============================] - 0s 16ms/step\n",
      "2/2 [==============================] - 0s 0s/step\n",
      "2/2 [==============================] - 0s 0s/step\n",
      "2/2 [==============================] - 0s 0s/step\n",
      "2/2 [==============================] - 0s 0s/step\n",
      "2/2 [==============================] - 0s 0s/step\n",
      "2/2 [==============================] - 0s 9ms/step\n",
      "2/2 [==============================] - 0s 0s/step\n",
      "2/2 [==============================] - 0s 0s/step\n",
      "2/2 [==============================] - 0s 12ms/step\n",
      "2/2 [==============================] - 0s 16ms/step\n",
      "2/2 [==============================] - 0s 0s/step\n",
      "2/2 [==============================] - 0s 0s/step\n"
     ]
    }
   ],
   "source": [
    "# architecture chosen and now re-testing 100 times to get a better sense of model performance\n",
    "m = 100\n",
    "scores = np.empty([m, 7])\n",
    "checkpoint_filepath = './tmp/checkpoint'\n",
    "model_checkpoint_callback = tf.keras.callbacks.ModelCheckpoint(\n",
    "    filepath=checkpoint_filepath,\n",
    "    save_weights_only=True,\n",
    "    monitor='val_accuracy',\n",
    "    mode='max',\n",
    "    save_best_only=True)\n",
    "for i in range(m):\n",
    "    x_train, x_test, y_train, y_test = train_test_split(X, y_ohe, test_size=0.2)\n",
    "    \n",
    "    inputs = keras.Input(shape=(22,))\n",
    "    x = Dense(8, activation='relu')(inputs)\n",
    "    x = Dropout(0.1)(x)\n",
    "    x = Dense(4, activation='relu')(x)\n",
    "    x = Dropout(0.1)(x)\n",
    "    x = Dense(2, activation='sigmoid')(x)\n",
    "    outputs = keras.layers.Softmax()(x)\n",
    "\n",
    "    model = keras.Model(inputs=inputs, outputs=outputs, name='fnn_cirrhosis')\n",
    "    model.compile(optimizer=keras.optimizers.Adam(learning_rate=0.003),\n",
    "                  loss=keras.losses.BinaryCrossentropy(),\n",
    "                  metrics=['accuracy'])\n",
    "    model.fit(x_train, y_train, epochs=100, batch_size=95, validation_split=0.2, verbose=0, callbacks=[model_checkpoint_callback])\n",
    "    model.load_weights(checkpoint_filepath)\n",
    "    \n",
    "    true, pred = (np.argmax(y_test, axis=1), np.argmax(model.predict(x_test), axis=1))\n",
    "    scores[i] = list(calc_2class_scores(true, pred).values())"
   ]
  },
  {
   "cell_type": "code",
   "execution_count": 220,
   "id": "3c5568af-4499-411f-b9ff-cdca7c5c3329",
   "metadata": {
    "tags": []
   },
   "outputs": [
    {
     "data": {
      "text/html": [
       "<div>\n",
       "<style scoped>\n",
       "    .dataframe tbody tr th:only-of-type {\n",
       "        vertical-align: middle;\n",
       "    }\n",
       "\n",
       "    .dataframe tbody tr th {\n",
       "        vertical-align: top;\n",
       "    }\n",
       "\n",
       "    .dataframe thead th {\n",
       "        text-align: right;\n",
       "    }\n",
       "</style>\n",
       "<table border=\"1\" class=\"dataframe\">\n",
       "  <thead>\n",
       "    <tr style=\"text-align: right;\">\n",
       "      <th></th>\n",
       "      <th>recall</th>\n",
       "      <th>specificity</th>\n",
       "      <th>precision</th>\n",
       "      <th>f1-score</th>\n",
       "      <th>accuracy</th>\n",
       "      <th>support_pos</th>\n",
       "      <th>support_neg</th>\n",
       "    </tr>\n",
       "  </thead>\n",
       "  <tbody>\n",
       "    <tr>\n",
       "      <th>0</th>\n",
       "      <td>0.90862</td>\n",
       "      <td>0.51044</td>\n",
       "      <td>0.779</td>\n",
       "      <td>0.83673</td>\n",
       "      <td>0.77093</td>\n",
       "      <td>40.56</td>\n",
       "      <td>21.44</td>\n",
       "    </tr>\n",
       "  </tbody>\n",
       "</table>\n",
       "</div>"
      ],
      "text/plain": [
       "    recall  specificity  precision  f1-score  accuracy  support_pos  \\\n",
       "0  0.90862      0.51044      0.779   0.83673   0.77093        40.56   \n",
       "\n",
       "   support_neg  \n",
       "0        21.44  "
      ]
     },
     "execution_count": 220,
     "metadata": {},
     "output_type": "execute_result"
    }
   ],
   "source": [
    "pd.DataFrame(np.mean(scores, axis=0).reshape(1, -1), columns=['recall', 'specificity', 'precision', 'f1-score', 'accuracy', 'support_pos', 'support_neg'])"
   ]
  }
 ],
 "metadata": {
  "kernelspec": {
   "display_name": "Python 3 (ipykernel)",
   "language": "python",
   "name": "python3"
  },
  "language_info": {
   "codemirror_mode": {
    "name": "ipython",
    "version": 3
   },
   "file_extension": ".py",
   "mimetype": "text/x-python",
   "name": "python",
   "nbconvert_exporter": "python",
   "pygments_lexer": "ipython3",
   "version": "3.11.4"
  }
 },
 "nbformat": 4,
 "nbformat_minor": 5
}
